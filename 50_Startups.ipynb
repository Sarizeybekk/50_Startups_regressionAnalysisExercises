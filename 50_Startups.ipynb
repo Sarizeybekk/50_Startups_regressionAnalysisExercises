{
 "cells": [
  {
   "cell_type": "markdown",
   "id": "3dba7ffb",
   "metadata": {
    "papermill": {
     "duration": 0.046282,
     "end_time": "2022-05-09T16:23:16.894968",
     "exception": false,
     "start_time": "2022-05-09T16:23:16.848686",
     "status": "completed"
    },
    "tags": []
   },
   "source": [
    "# Doğrusal Regresyon Egzersizleri"
   ]
  },
  {
   "cell_type": "markdown",
   "id": "77869591",
   "metadata": {
    "papermill": {
     "duration": 0.044942,
     "end_time": "2022-05-09T16:23:16.986074",
     "exception": false,
     "start_time": "2022-05-09T16:23:16.941132",
     "status": "completed"
    },
    "tags": []
   },
   "source": [
    "50 adet Startup'ın araştırma ve geliştirmeye yönelik harcaması, yönetime yönelik harcaması, pazarlama harcaması, kazandıkları kar miktarı ve kuruldukları lokasyon bilgisi bulunmaktadır. Amaç kar miktarını tahmin etmektir. Bu bir sayısal tahmin problemidir ve bağımlı değişkenimiz \"Profit\"."
   ]
  },
  {
   "cell_type": "markdown",
   "id": "227480e1",
   "metadata": {
    "papermill": {
     "duration": 0.044741,
     "end_time": "2022-05-09T16:23:17.074480",
     "exception": false,
     "start_time": "2022-05-09T16:23:17.029739",
     "status": "completed"
    },
    "tags": []
   },
   "source": [
    "Numpy, matplotlib.pyplot, pandas ve seaborn kütüphanelerini çekirdeğe dahil edelim."
   ]
  },
  {
   "cell_type": "code",
   "execution_count": 1,
   "id": "28a36c7f",
   "metadata": {
    "execution": {
     "iopub.execute_input": "2022-05-09T16:23:17.165037Z",
     "iopub.status.busy": "2022-05-09T16:23:17.163945Z",
     "iopub.status.idle": "2022-05-09T16:23:18.280068Z",
     "shell.execute_reply": "2022-05-09T16:23:18.279059Z"
    },
    "papermill": {
     "duration": 1.164396,
     "end_time": "2022-05-09T16:23:18.282622",
     "exception": false,
     "start_time": "2022-05-09T16:23:17.118226",
     "status": "completed"
    },
    "tags": []
   },
   "outputs": [],
   "source": [
    "import numpy as np\n",
    "import pandas as pd\n",
    "import seaborn as sns\n",
    "import matplotlib.pyplot as plt"
   ]
  },
  {
   "cell_type": "markdown",
   "id": "886ed8c4",
   "metadata": {
    "papermill": {
     "duration": 0.045227,
     "end_time": "2022-05-09T16:23:18.373189",
     "exception": false,
     "start_time": "2022-05-09T16:23:18.327962",
     "status": "completed"
    },
    "tags": []
   },
   "source": [
    "Dizinde bulunan veri çerçevemizi startups değişkenine atayalım. startups değişkenini df değişkenine kopyalayarak kullanmaya başlayalım."
   ]
  },
  {
   "cell_type": "code",
   "execution_count": 2,
   "id": "62b37e1d",
   "metadata": {
    "execution": {
     "iopub.execute_input": "2022-05-09T16:23:18.462653Z",
     "iopub.status.busy": "2022-05-09T16:23:18.462337Z",
     "iopub.status.idle": "2022-05-09T16:23:18.503645Z",
     "shell.execute_reply": "2022-05-09T16:23:18.503106Z"
    },
    "papermill": {
     "duration": 0.08861,
     "end_time": "2022-05-09T16:23:18.506000",
     "exception": false,
     "start_time": "2022-05-09T16:23:18.417390",
     "status": "completed"
    },
    "tags": []
   },
   "outputs": [
    {
     "data": {
      "text/html": [
       "<div>\n",
       "<style scoped>\n",
       "    .dataframe tbody tr th:only-of-type {\n",
       "        vertical-align: middle;\n",
       "    }\n",
       "\n",
       "    .dataframe tbody tr th {\n",
       "        vertical-align: top;\n",
       "    }\n",
       "\n",
       "    .dataframe thead th {\n",
       "        text-align: right;\n",
       "    }\n",
       "</style>\n",
       "<table border=\"1\" class=\"dataframe\">\n",
       "  <thead>\n",
       "    <tr style=\"text-align: right;\">\n",
       "      <th></th>\n",
       "      <th>R&amp;D Spend</th>\n",
       "      <th>Administration</th>\n",
       "      <th>Marketing Spend</th>\n",
       "      <th>State</th>\n",
       "      <th>Profit</th>\n",
       "    </tr>\n",
       "  </thead>\n",
       "  <tbody>\n",
       "    <tr>\n",
       "      <th>0</th>\n",
       "      <td>165349.20</td>\n",
       "      <td>136897.80</td>\n",
       "      <td>471784.10</td>\n",
       "      <td>New York</td>\n",
       "      <td>192261.83</td>\n",
       "    </tr>\n",
       "    <tr>\n",
       "      <th>1</th>\n",
       "      <td>162597.70</td>\n",
       "      <td>151377.59</td>\n",
       "      <td>443898.53</td>\n",
       "      <td>California</td>\n",
       "      <td>191792.06</td>\n",
       "    </tr>\n",
       "    <tr>\n",
       "      <th>2</th>\n",
       "      <td>153441.51</td>\n",
       "      <td>101145.55</td>\n",
       "      <td>407934.54</td>\n",
       "      <td>Florida</td>\n",
       "      <td>191050.39</td>\n",
       "    </tr>\n",
       "    <tr>\n",
       "      <th>3</th>\n",
       "      <td>144372.41</td>\n",
       "      <td>118671.85</td>\n",
       "      <td>383199.62</td>\n",
       "      <td>New York</td>\n",
       "      <td>182901.99</td>\n",
       "    </tr>\n",
       "    <tr>\n",
       "      <th>4</th>\n",
       "      <td>142107.34</td>\n",
       "      <td>91391.77</td>\n",
       "      <td>366168.42</td>\n",
       "      <td>Florida</td>\n",
       "      <td>166187.94</td>\n",
       "    </tr>\n",
       "    <tr>\n",
       "      <th>5</th>\n",
       "      <td>131876.90</td>\n",
       "      <td>99814.71</td>\n",
       "      <td>362861.36</td>\n",
       "      <td>New York</td>\n",
       "      <td>156991.12</td>\n",
       "    </tr>\n",
       "    <tr>\n",
       "      <th>6</th>\n",
       "      <td>134615.46</td>\n",
       "      <td>147198.87</td>\n",
       "      <td>127716.82</td>\n",
       "      <td>California</td>\n",
       "      <td>156122.51</td>\n",
       "    </tr>\n",
       "    <tr>\n",
       "      <th>7</th>\n",
       "      <td>130298.13</td>\n",
       "      <td>145530.06</td>\n",
       "      <td>323876.68</td>\n",
       "      <td>Florida</td>\n",
       "      <td>155752.60</td>\n",
       "    </tr>\n",
       "    <tr>\n",
       "      <th>8</th>\n",
       "      <td>120542.52</td>\n",
       "      <td>148718.95</td>\n",
       "      <td>311613.29</td>\n",
       "      <td>New York</td>\n",
       "      <td>152211.77</td>\n",
       "    </tr>\n",
       "    <tr>\n",
       "      <th>9</th>\n",
       "      <td>123334.88</td>\n",
       "      <td>108679.17</td>\n",
       "      <td>304981.62</td>\n",
       "      <td>California</td>\n",
       "      <td>149759.96</td>\n",
       "    </tr>\n",
       "    <tr>\n",
       "      <th>10</th>\n",
       "      <td>101913.08</td>\n",
       "      <td>110594.11</td>\n",
       "      <td>229160.95</td>\n",
       "      <td>Florida</td>\n",
       "      <td>146121.95</td>\n",
       "    </tr>\n",
       "    <tr>\n",
       "      <th>11</th>\n",
       "      <td>100671.96</td>\n",
       "      <td>91790.61</td>\n",
       "      <td>249744.55</td>\n",
       "      <td>California</td>\n",
       "      <td>144259.40</td>\n",
       "    </tr>\n",
       "    <tr>\n",
       "      <th>12</th>\n",
       "      <td>93863.75</td>\n",
       "      <td>127320.38</td>\n",
       "      <td>249839.44</td>\n",
       "      <td>Florida</td>\n",
       "      <td>141585.52</td>\n",
       "    </tr>\n",
       "    <tr>\n",
       "      <th>13</th>\n",
       "      <td>91992.39</td>\n",
       "      <td>135495.07</td>\n",
       "      <td>252664.93</td>\n",
       "      <td>California</td>\n",
       "      <td>134307.35</td>\n",
       "    </tr>\n",
       "    <tr>\n",
       "      <th>14</th>\n",
       "      <td>119943.24</td>\n",
       "      <td>156547.42</td>\n",
       "      <td>256512.92</td>\n",
       "      <td>Florida</td>\n",
       "      <td>132602.65</td>\n",
       "    </tr>\n",
       "    <tr>\n",
       "      <th>15</th>\n",
       "      <td>114523.61</td>\n",
       "      <td>122616.84</td>\n",
       "      <td>261776.23</td>\n",
       "      <td>New York</td>\n",
       "      <td>129917.04</td>\n",
       "    </tr>\n",
       "    <tr>\n",
       "      <th>16</th>\n",
       "      <td>78013.11</td>\n",
       "      <td>121597.55</td>\n",
       "      <td>264346.06</td>\n",
       "      <td>California</td>\n",
       "      <td>126992.93</td>\n",
       "    </tr>\n",
       "    <tr>\n",
       "      <th>17</th>\n",
       "      <td>94657.16</td>\n",
       "      <td>145077.58</td>\n",
       "      <td>282574.31</td>\n",
       "      <td>New York</td>\n",
       "      <td>125370.37</td>\n",
       "    </tr>\n",
       "    <tr>\n",
       "      <th>18</th>\n",
       "      <td>91749.16</td>\n",
       "      <td>114175.79</td>\n",
       "      <td>294919.57</td>\n",
       "      <td>Florida</td>\n",
       "      <td>124266.90</td>\n",
       "    </tr>\n",
       "    <tr>\n",
       "      <th>19</th>\n",
       "      <td>86419.70</td>\n",
       "      <td>153514.11</td>\n",
       "      <td>0.00</td>\n",
       "      <td>New York</td>\n",
       "      <td>122776.86</td>\n",
       "    </tr>\n",
       "    <tr>\n",
       "      <th>20</th>\n",
       "      <td>76253.86</td>\n",
       "      <td>113867.30</td>\n",
       "      <td>298664.47</td>\n",
       "      <td>California</td>\n",
       "      <td>118474.03</td>\n",
       "    </tr>\n",
       "    <tr>\n",
       "      <th>21</th>\n",
       "      <td>78389.47</td>\n",
       "      <td>153773.43</td>\n",
       "      <td>299737.29</td>\n",
       "      <td>New York</td>\n",
       "      <td>111313.02</td>\n",
       "    </tr>\n",
       "    <tr>\n",
       "      <th>22</th>\n",
       "      <td>73994.56</td>\n",
       "      <td>122782.75</td>\n",
       "      <td>303319.26</td>\n",
       "      <td>Florida</td>\n",
       "      <td>110352.25</td>\n",
       "    </tr>\n",
       "    <tr>\n",
       "      <th>23</th>\n",
       "      <td>67532.53</td>\n",
       "      <td>105751.03</td>\n",
       "      <td>304768.73</td>\n",
       "      <td>Florida</td>\n",
       "      <td>108733.99</td>\n",
       "    </tr>\n",
       "    <tr>\n",
       "      <th>24</th>\n",
       "      <td>77044.01</td>\n",
       "      <td>99281.34</td>\n",
       "      <td>140574.81</td>\n",
       "      <td>New York</td>\n",
       "      <td>108552.04</td>\n",
       "    </tr>\n",
       "    <tr>\n",
       "      <th>25</th>\n",
       "      <td>64664.71</td>\n",
       "      <td>139553.16</td>\n",
       "      <td>137962.62</td>\n",
       "      <td>California</td>\n",
       "      <td>107404.34</td>\n",
       "    </tr>\n",
       "    <tr>\n",
       "      <th>26</th>\n",
       "      <td>75328.87</td>\n",
       "      <td>144135.98</td>\n",
       "      <td>134050.07</td>\n",
       "      <td>Florida</td>\n",
       "      <td>105733.54</td>\n",
       "    </tr>\n",
       "    <tr>\n",
       "      <th>27</th>\n",
       "      <td>72107.60</td>\n",
       "      <td>127864.55</td>\n",
       "      <td>353183.81</td>\n",
       "      <td>New York</td>\n",
       "      <td>105008.31</td>\n",
       "    </tr>\n",
       "    <tr>\n",
       "      <th>28</th>\n",
       "      <td>66051.52</td>\n",
       "      <td>182645.56</td>\n",
       "      <td>118148.20</td>\n",
       "      <td>Florida</td>\n",
       "      <td>103282.38</td>\n",
       "    </tr>\n",
       "    <tr>\n",
       "      <th>29</th>\n",
       "      <td>65605.48</td>\n",
       "      <td>153032.06</td>\n",
       "      <td>107138.38</td>\n",
       "      <td>New York</td>\n",
       "      <td>101004.64</td>\n",
       "    </tr>\n",
       "    <tr>\n",
       "      <th>30</th>\n",
       "      <td>61994.48</td>\n",
       "      <td>115641.28</td>\n",
       "      <td>91131.24</td>\n",
       "      <td>Florida</td>\n",
       "      <td>99937.59</td>\n",
       "    </tr>\n",
       "    <tr>\n",
       "      <th>31</th>\n",
       "      <td>61136.38</td>\n",
       "      <td>152701.92</td>\n",
       "      <td>88218.23</td>\n",
       "      <td>New York</td>\n",
       "      <td>97483.56</td>\n",
       "    </tr>\n",
       "    <tr>\n",
       "      <th>32</th>\n",
       "      <td>63408.86</td>\n",
       "      <td>129219.61</td>\n",
       "      <td>46085.25</td>\n",
       "      <td>California</td>\n",
       "      <td>97427.84</td>\n",
       "    </tr>\n",
       "    <tr>\n",
       "      <th>33</th>\n",
       "      <td>55493.95</td>\n",
       "      <td>103057.49</td>\n",
       "      <td>214634.81</td>\n",
       "      <td>Florida</td>\n",
       "      <td>96778.92</td>\n",
       "    </tr>\n",
       "    <tr>\n",
       "      <th>34</th>\n",
       "      <td>46426.07</td>\n",
       "      <td>157693.92</td>\n",
       "      <td>210797.67</td>\n",
       "      <td>California</td>\n",
       "      <td>96712.80</td>\n",
       "    </tr>\n",
       "    <tr>\n",
       "      <th>35</th>\n",
       "      <td>46014.02</td>\n",
       "      <td>85047.44</td>\n",
       "      <td>205517.64</td>\n",
       "      <td>New York</td>\n",
       "      <td>96479.51</td>\n",
       "    </tr>\n",
       "    <tr>\n",
       "      <th>36</th>\n",
       "      <td>28663.76</td>\n",
       "      <td>127056.21</td>\n",
       "      <td>201126.82</td>\n",
       "      <td>Florida</td>\n",
       "      <td>90708.19</td>\n",
       "    </tr>\n",
       "    <tr>\n",
       "      <th>37</th>\n",
       "      <td>44069.95</td>\n",
       "      <td>51283.14</td>\n",
       "      <td>197029.42</td>\n",
       "      <td>California</td>\n",
       "      <td>89949.14</td>\n",
       "    </tr>\n",
       "    <tr>\n",
       "      <th>38</th>\n",
       "      <td>20229.59</td>\n",
       "      <td>65947.93</td>\n",
       "      <td>185265.10</td>\n",
       "      <td>New York</td>\n",
       "      <td>81229.06</td>\n",
       "    </tr>\n",
       "    <tr>\n",
       "      <th>39</th>\n",
       "      <td>38558.51</td>\n",
       "      <td>82982.09</td>\n",
       "      <td>174999.30</td>\n",
       "      <td>California</td>\n",
       "      <td>81005.76</td>\n",
       "    </tr>\n",
       "    <tr>\n",
       "      <th>40</th>\n",
       "      <td>28754.33</td>\n",
       "      <td>118546.05</td>\n",
       "      <td>172795.67</td>\n",
       "      <td>California</td>\n",
       "      <td>78239.91</td>\n",
       "    </tr>\n",
       "    <tr>\n",
       "      <th>41</th>\n",
       "      <td>27892.92</td>\n",
       "      <td>84710.77</td>\n",
       "      <td>164470.71</td>\n",
       "      <td>Florida</td>\n",
       "      <td>77798.83</td>\n",
       "    </tr>\n",
       "    <tr>\n",
       "      <th>42</th>\n",
       "      <td>23640.93</td>\n",
       "      <td>96189.63</td>\n",
       "      <td>148001.11</td>\n",
       "      <td>California</td>\n",
       "      <td>71498.49</td>\n",
       "    </tr>\n",
       "    <tr>\n",
       "      <th>43</th>\n",
       "      <td>15505.73</td>\n",
       "      <td>127382.30</td>\n",
       "      <td>35534.17</td>\n",
       "      <td>New York</td>\n",
       "      <td>69758.98</td>\n",
       "    </tr>\n",
       "    <tr>\n",
       "      <th>44</th>\n",
       "      <td>22177.74</td>\n",
       "      <td>154806.14</td>\n",
       "      <td>28334.72</td>\n",
       "      <td>California</td>\n",
       "      <td>65200.33</td>\n",
       "    </tr>\n",
       "    <tr>\n",
       "      <th>45</th>\n",
       "      <td>1000.23</td>\n",
       "      <td>124153.04</td>\n",
       "      <td>1903.93</td>\n",
       "      <td>New York</td>\n",
       "      <td>64926.08</td>\n",
       "    </tr>\n",
       "    <tr>\n",
       "      <th>46</th>\n",
       "      <td>1315.46</td>\n",
       "      <td>115816.21</td>\n",
       "      <td>297114.46</td>\n",
       "      <td>Florida</td>\n",
       "      <td>49490.75</td>\n",
       "    </tr>\n",
       "    <tr>\n",
       "      <th>47</th>\n",
       "      <td>0.00</td>\n",
       "      <td>135426.92</td>\n",
       "      <td>0.00</td>\n",
       "      <td>California</td>\n",
       "      <td>42559.73</td>\n",
       "    </tr>\n",
       "    <tr>\n",
       "      <th>48</th>\n",
       "      <td>542.05</td>\n",
       "      <td>51743.15</td>\n",
       "      <td>0.00</td>\n",
       "      <td>New York</td>\n",
       "      <td>35673.41</td>\n",
       "    </tr>\n",
       "    <tr>\n",
       "      <th>49</th>\n",
       "      <td>0.00</td>\n",
       "      <td>116983.80</td>\n",
       "      <td>45173.06</td>\n",
       "      <td>California</td>\n",
       "      <td>14681.40</td>\n",
       "    </tr>\n",
       "  </tbody>\n",
       "</table>\n",
       "</div>"
      ],
      "text/plain": [
       "    R&D Spend  Administration  Marketing Spend       State     Profit\n",
       "0   165349.20       136897.80        471784.10    New York  192261.83\n",
       "1   162597.70       151377.59        443898.53  California  191792.06\n",
       "2   153441.51       101145.55        407934.54     Florida  191050.39\n",
       "3   144372.41       118671.85        383199.62    New York  182901.99\n",
       "4   142107.34        91391.77        366168.42     Florida  166187.94\n",
       "5   131876.90        99814.71        362861.36    New York  156991.12\n",
       "6   134615.46       147198.87        127716.82  California  156122.51\n",
       "7   130298.13       145530.06        323876.68     Florida  155752.60\n",
       "8   120542.52       148718.95        311613.29    New York  152211.77\n",
       "9   123334.88       108679.17        304981.62  California  149759.96\n",
       "10  101913.08       110594.11        229160.95     Florida  146121.95\n",
       "11  100671.96        91790.61        249744.55  California  144259.40\n",
       "12   93863.75       127320.38        249839.44     Florida  141585.52\n",
       "13   91992.39       135495.07        252664.93  California  134307.35\n",
       "14  119943.24       156547.42        256512.92     Florida  132602.65\n",
       "15  114523.61       122616.84        261776.23    New York  129917.04\n",
       "16   78013.11       121597.55        264346.06  California  126992.93\n",
       "17   94657.16       145077.58        282574.31    New York  125370.37\n",
       "18   91749.16       114175.79        294919.57     Florida  124266.90\n",
       "19   86419.70       153514.11             0.00    New York  122776.86\n",
       "20   76253.86       113867.30        298664.47  California  118474.03\n",
       "21   78389.47       153773.43        299737.29    New York  111313.02\n",
       "22   73994.56       122782.75        303319.26     Florida  110352.25\n",
       "23   67532.53       105751.03        304768.73     Florida  108733.99\n",
       "24   77044.01        99281.34        140574.81    New York  108552.04\n",
       "25   64664.71       139553.16        137962.62  California  107404.34\n",
       "26   75328.87       144135.98        134050.07     Florida  105733.54\n",
       "27   72107.60       127864.55        353183.81    New York  105008.31\n",
       "28   66051.52       182645.56        118148.20     Florida  103282.38\n",
       "29   65605.48       153032.06        107138.38    New York  101004.64\n",
       "30   61994.48       115641.28         91131.24     Florida   99937.59\n",
       "31   61136.38       152701.92         88218.23    New York   97483.56\n",
       "32   63408.86       129219.61         46085.25  California   97427.84\n",
       "33   55493.95       103057.49        214634.81     Florida   96778.92\n",
       "34   46426.07       157693.92        210797.67  California   96712.80\n",
       "35   46014.02        85047.44        205517.64    New York   96479.51\n",
       "36   28663.76       127056.21        201126.82     Florida   90708.19\n",
       "37   44069.95        51283.14        197029.42  California   89949.14\n",
       "38   20229.59        65947.93        185265.10    New York   81229.06\n",
       "39   38558.51        82982.09        174999.30  California   81005.76\n",
       "40   28754.33       118546.05        172795.67  California   78239.91\n",
       "41   27892.92        84710.77        164470.71     Florida   77798.83\n",
       "42   23640.93        96189.63        148001.11  California   71498.49\n",
       "43   15505.73       127382.30         35534.17    New York   69758.98\n",
       "44   22177.74       154806.14         28334.72  California   65200.33\n",
       "45    1000.23       124153.04          1903.93    New York   64926.08\n",
       "46    1315.46       115816.21        297114.46     Florida   49490.75\n",
       "47       0.00       135426.92             0.00  California   42559.73\n",
       "48     542.05        51743.15             0.00    New York   35673.41\n",
       "49       0.00       116983.80         45173.06  California   14681.40"
      ]
     },
     "execution_count": 2,
     "metadata": {},
     "output_type": "execute_result"
    }
   ],
   "source": [
    "startups=pd.read_csv('../input/50-startup/50_Startups.csv')\n",
    "df=startups.copy()\n",
    "df\n"
   ]
  },
  {
   "cell_type": "markdown",
   "id": "9053570a",
   "metadata": {
    "papermill": {
     "duration": 0.044943,
     "end_time": "2022-05-09T16:23:18.596199",
     "exception": false,
     "start_time": "2022-05-09T16:23:18.551256",
     "status": "completed"
    },
    "tags": []
   },
   "source": [
    "İlk 5 gözlemini yazdıralım."
   ]
  },
  {
   "cell_type": "code",
   "execution_count": 3,
   "id": "be141c8d",
   "metadata": {
    "execution": {
     "iopub.execute_input": "2022-05-09T16:23:18.686897Z",
     "iopub.status.busy": "2022-05-09T16:23:18.686616Z",
     "iopub.status.idle": "2022-05-09T16:23:18.698086Z",
     "shell.execute_reply": "2022-05-09T16:23:18.697270Z"
    },
    "papermill": {
     "duration": 0.059227,
     "end_time": "2022-05-09T16:23:18.699938",
     "exception": false,
     "start_time": "2022-05-09T16:23:18.640711",
     "status": "completed"
    },
    "tags": []
   },
   "outputs": [
    {
     "data": {
      "text/html": [
       "<div>\n",
       "<style scoped>\n",
       "    .dataframe tbody tr th:only-of-type {\n",
       "        vertical-align: middle;\n",
       "    }\n",
       "\n",
       "    .dataframe tbody tr th {\n",
       "        vertical-align: top;\n",
       "    }\n",
       "\n",
       "    .dataframe thead th {\n",
       "        text-align: right;\n",
       "    }\n",
       "</style>\n",
       "<table border=\"1\" class=\"dataframe\">\n",
       "  <thead>\n",
       "    <tr style=\"text-align: right;\">\n",
       "      <th></th>\n",
       "      <th>R&amp;D Spend</th>\n",
       "      <th>Administration</th>\n",
       "      <th>Marketing Spend</th>\n",
       "      <th>State</th>\n",
       "      <th>Profit</th>\n",
       "    </tr>\n",
       "  </thead>\n",
       "  <tbody>\n",
       "    <tr>\n",
       "      <th>0</th>\n",
       "      <td>165349.20</td>\n",
       "      <td>136897.80</td>\n",
       "      <td>471784.10</td>\n",
       "      <td>New York</td>\n",
       "      <td>192261.83</td>\n",
       "    </tr>\n",
       "    <tr>\n",
       "      <th>1</th>\n",
       "      <td>162597.70</td>\n",
       "      <td>151377.59</td>\n",
       "      <td>443898.53</td>\n",
       "      <td>California</td>\n",
       "      <td>191792.06</td>\n",
       "    </tr>\n",
       "    <tr>\n",
       "      <th>2</th>\n",
       "      <td>153441.51</td>\n",
       "      <td>101145.55</td>\n",
       "      <td>407934.54</td>\n",
       "      <td>Florida</td>\n",
       "      <td>191050.39</td>\n",
       "    </tr>\n",
       "    <tr>\n",
       "      <th>3</th>\n",
       "      <td>144372.41</td>\n",
       "      <td>118671.85</td>\n",
       "      <td>383199.62</td>\n",
       "      <td>New York</td>\n",
       "      <td>182901.99</td>\n",
       "    </tr>\n",
       "    <tr>\n",
       "      <th>4</th>\n",
       "      <td>142107.34</td>\n",
       "      <td>91391.77</td>\n",
       "      <td>366168.42</td>\n",
       "      <td>Florida</td>\n",
       "      <td>166187.94</td>\n",
       "    </tr>\n",
       "  </tbody>\n",
       "</table>\n",
       "</div>"
      ],
      "text/plain": [
       "   R&D Spend  Administration  Marketing Spend       State     Profit\n",
       "0  165349.20       136897.80        471784.10    New York  192261.83\n",
       "1  162597.70       151377.59        443898.53  California  191792.06\n",
       "2  153441.51       101145.55        407934.54     Florida  191050.39\n",
       "3  144372.41       118671.85        383199.62    New York  182901.99\n",
       "4  142107.34        91391.77        366168.42     Florida  166187.94"
      ]
     },
     "execution_count": 3,
     "metadata": {},
     "output_type": "execute_result"
    }
   ],
   "source": [
    "df.head()"
   ]
  },
  {
   "cell_type": "markdown",
   "id": "6f5fd3bf",
   "metadata": {
    "papermill": {
     "duration": 0.045842,
     "end_time": "2022-05-09T16:23:18.791604",
     "exception": false,
     "start_time": "2022-05-09T16:23:18.745762",
     "status": "completed"
    },
    "tags": []
   },
   "source": [
    "Veri çerçevesinin bilgilerini görüntüleyelim."
   ]
  },
  {
   "cell_type": "code",
   "execution_count": 4,
   "id": "5bc10d9c",
   "metadata": {
    "execution": {
     "iopub.execute_input": "2022-05-09T16:23:18.883822Z",
     "iopub.status.busy": "2022-05-09T16:23:18.883276Z",
     "iopub.status.idle": "2022-05-09T16:23:18.905223Z",
     "shell.execute_reply": "2022-05-09T16:23:18.904363Z"
    },
    "papermill": {
     "duration": 0.070538,
     "end_time": "2022-05-09T16:23:18.907578",
     "exception": false,
     "start_time": "2022-05-09T16:23:18.837040",
     "status": "completed"
    },
    "tags": []
   },
   "outputs": [
    {
     "name": "stdout",
     "output_type": "stream",
     "text": [
      "<class 'pandas.core.frame.DataFrame'>\n",
      "RangeIndex: 50 entries, 0 to 49\n",
      "Data columns (total 5 columns):\n",
      " #   Column           Non-Null Count  Dtype  \n",
      "---  ------           --------------  -----  \n",
      " 0   R&D Spend        50 non-null     float64\n",
      " 1   Administration   50 non-null     float64\n",
      " 2   Marketing Spend  50 non-null     float64\n",
      " 3   State            50 non-null     object \n",
      " 4   Profit           50 non-null     float64\n",
      "dtypes: float64(4), object(1)\n",
      "memory usage: 2.1+ KB\n"
     ]
    }
   ],
   "source": [
    "df.info()\n"
   ]
  },
  {
   "cell_type": "markdown",
   "id": "eb8968e2",
   "metadata": {
    "papermill": {
     "duration": 0.046915,
     "end_time": "2022-05-09T16:23:19.002184",
     "exception": false,
     "start_time": "2022-05-09T16:23:18.955269",
     "status": "completed"
    },
    "tags": []
   },
   "source": [
    "Kaç gözlem ve öznitelikten oluştuğunu görüntüleyelim."
   ]
  },
  {
   "cell_type": "code",
   "execution_count": 5,
   "id": "73185a7a",
   "metadata": {
    "execution": {
     "iopub.execute_input": "2022-05-09T16:23:19.098777Z",
     "iopub.status.busy": "2022-05-09T16:23:19.098483Z",
     "iopub.status.idle": "2022-05-09T16:23:19.103859Z",
     "shell.execute_reply": "2022-05-09T16:23:19.103271Z"
    },
    "papermill": {
     "duration": 0.054212,
     "end_time": "2022-05-09T16:23:19.105424",
     "exception": false,
     "start_time": "2022-05-09T16:23:19.051212",
     "status": "completed"
    },
    "tags": []
   },
   "outputs": [
    {
     "data": {
      "text/plain": [
       "(50, 5)"
      ]
     },
     "execution_count": 5,
     "metadata": {},
     "output_type": "execute_result"
    }
   ],
   "source": [
    "df.shape"
   ]
  },
  {
   "cell_type": "markdown",
   "id": "a9099cac",
   "metadata": {
    "papermill": {
     "duration": 0.046252,
     "end_time": "2022-05-09T16:23:19.199875",
     "exception": false,
     "start_time": "2022-05-09T16:23:19.153623",
     "status": "completed"
    },
    "tags": []
   },
   "source": [
    "Eksik verileri kontrol edelim."
   ]
  },
  {
   "cell_type": "code",
   "execution_count": 6,
   "id": "55d02b99",
   "metadata": {
    "execution": {
     "iopub.execute_input": "2022-05-09T16:23:19.297332Z",
     "iopub.status.busy": "2022-05-09T16:23:19.296796Z",
     "iopub.status.idle": "2022-05-09T16:23:19.303756Z",
     "shell.execute_reply": "2022-05-09T16:23:19.303196Z"
    },
    "papermill": {
     "duration": 0.058758,
     "end_time": "2022-05-09T16:23:19.305531",
     "exception": false,
     "start_time": "2022-05-09T16:23:19.246773",
     "status": "completed"
    },
    "tags": []
   },
   "outputs": [
    {
     "data": {
      "text/plain": [
       "R&D Spend          0\n",
       "Administration     0\n",
       "Marketing Spend    0\n",
       "State              0\n",
       "Profit             0\n",
       "dtype: int64"
      ]
     },
     "execution_count": 6,
     "metadata": {},
     "output_type": "execute_result"
    }
   ],
   "source": [
    "df.isna().sum()\n"
   ]
  },
  {
   "cell_type": "markdown",
   "id": "e55b5e2d",
   "metadata": {
    "papermill": {
     "duration": 0.045746,
     "end_time": "2022-05-09T16:23:19.398955",
     "exception": false,
     "start_time": "2022-05-09T16:23:19.353209",
     "status": "completed"
    },
    "tags": []
   },
   "source": [
    "Korelasyon matrisi çizdirelim."
   ]
  },
  {
   "cell_type": "code",
   "execution_count": 7,
   "id": "523fdc78",
   "metadata": {
    "execution": {
     "iopub.execute_input": "2022-05-09T16:23:19.492974Z",
     "iopub.status.busy": "2022-05-09T16:23:19.492458Z",
     "iopub.status.idle": "2022-05-09T16:23:19.504310Z",
     "shell.execute_reply": "2022-05-09T16:23:19.503738Z"
    },
    "papermill": {
     "duration": 0.061187,
     "end_time": "2022-05-09T16:23:19.506106",
     "exception": false,
     "start_time": "2022-05-09T16:23:19.444919",
     "status": "completed"
    },
    "tags": []
   },
   "outputs": [
    {
     "data": {
      "text/html": [
       "<div>\n",
       "<style scoped>\n",
       "    .dataframe tbody tr th:only-of-type {\n",
       "        vertical-align: middle;\n",
       "    }\n",
       "\n",
       "    .dataframe tbody tr th {\n",
       "        vertical-align: top;\n",
       "    }\n",
       "\n",
       "    .dataframe thead th {\n",
       "        text-align: right;\n",
       "    }\n",
       "</style>\n",
       "<table border=\"1\" class=\"dataframe\">\n",
       "  <thead>\n",
       "    <tr style=\"text-align: right;\">\n",
       "      <th></th>\n",
       "      <th>R&amp;D Spend</th>\n",
       "      <th>Administration</th>\n",
       "      <th>Marketing Spend</th>\n",
       "      <th>Profit</th>\n",
       "    </tr>\n",
       "  </thead>\n",
       "  <tbody>\n",
       "    <tr>\n",
       "      <th>R&amp;D Spend</th>\n",
       "      <td>1.000000</td>\n",
       "      <td>0.241955</td>\n",
       "      <td>0.724248</td>\n",
       "      <td>0.972900</td>\n",
       "    </tr>\n",
       "    <tr>\n",
       "      <th>Administration</th>\n",
       "      <td>0.241955</td>\n",
       "      <td>1.000000</td>\n",
       "      <td>-0.032154</td>\n",
       "      <td>0.200717</td>\n",
       "    </tr>\n",
       "    <tr>\n",
       "      <th>Marketing Spend</th>\n",
       "      <td>0.724248</td>\n",
       "      <td>-0.032154</td>\n",
       "      <td>1.000000</td>\n",
       "      <td>0.747766</td>\n",
       "    </tr>\n",
       "    <tr>\n",
       "      <th>Profit</th>\n",
       "      <td>0.972900</td>\n",
       "      <td>0.200717</td>\n",
       "      <td>0.747766</td>\n",
       "      <td>1.000000</td>\n",
       "    </tr>\n",
       "  </tbody>\n",
       "</table>\n",
       "</div>"
      ],
      "text/plain": [
       "                 R&D Spend  Administration  Marketing Spend    Profit\n",
       "R&D Spend         1.000000        0.241955         0.724248  0.972900\n",
       "Administration    0.241955        1.000000        -0.032154  0.200717\n",
       "Marketing Spend   0.724248       -0.032154         1.000000  0.747766\n",
       "Profit            0.972900        0.200717         0.747766  1.000000"
      ]
     },
     "execution_count": 7,
     "metadata": {},
     "output_type": "execute_result"
    }
   ],
   "source": [
    "df.corr()"
   ]
  },
  {
   "cell_type": "markdown",
   "id": "ed2f264f",
   "metadata": {
    "papermill": {
     "duration": 0.0464,
     "end_time": "2022-05-09T16:23:19.600688",
     "exception": false,
     "start_time": "2022-05-09T16:23:19.554288",
     "status": "completed"
    },
    "tags": []
   },
   "source": [
    "Seaborn ile korelasyon matrisinin ısı haritasını çizdirelim."
   ]
  },
  {
   "cell_type": "code",
   "execution_count": 8,
   "id": "827ef7e9",
   "metadata": {
    "execution": {
     "iopub.execute_input": "2022-05-09T16:23:19.697871Z",
     "iopub.status.busy": "2022-05-09T16:23:19.697306Z",
     "iopub.status.idle": "2022-05-09T16:23:19.928220Z",
     "shell.execute_reply": "2022-05-09T16:23:19.927308Z"
    },
    "papermill": {
     "duration": 0.281319,
     "end_time": "2022-05-09T16:23:19.930527",
     "exception": false,
     "start_time": "2022-05-09T16:23:19.649208",
     "status": "completed"
    },
    "tags": []
   },
   "outputs": [
    {
     "data": {
      "image/png": "[encoded data removed]",
      "text/plain": [
       "<Figure size 432x288 with 2 Axes>"
      ]
     },
     "metadata": {
      "needs_background": "light"
     },
     "output_type": "display_data"
    }
   ],
   "source": [
    "corr=df.corr()\n",
    "sns.heatmap(corr,\n",
    "            xticklabels=corr.columns.values,\n",
    "            yticklabels=corr.columns.values);"
   ]
  },
  {
   "cell_type": "code",
   "execution_count": 9,
   "id": "b2e537cf",
   "metadata": {
    "execution": {
     "iopub.execute_input": "2022-05-09T16:23:20.030090Z",
     "iopub.status.busy": "2022-05-09T16:23:20.029787Z",
     "iopub.status.idle": "2022-05-09T16:23:20.033973Z",
     "shell.execute_reply": "2022-05-09T16:23:20.033062Z"
    },
    "papermill": {
     "duration": 0.056949,
     "end_time": "2022-05-09T16:23:20.036169",
     "exception": false,
     "start_time": "2022-05-09T16:23:19.979220",
     "status": "completed"
    },
    "tags": []
   },
   "outputs": [],
   "source": [
    "#Grafiğin daha anlaşılabilir olması için belirli parametreler verebiliriz."
   ]
  },
  {
   "cell_type": "code",
   "execution_count": 10,
   "id": "7c6c6c08",
   "metadata": {
    "execution": {
     "iopub.execute_input": "2022-05-09T16:23:20.136979Z",
     "iopub.status.busy": "2022-05-09T16:23:20.136452Z",
     "iopub.status.idle": "2022-05-09T16:23:20.408472Z",
     "shell.execute_reply": "2022-05-09T16:23:20.407436Z"
    },
    "papermill": {
     "duration": 0.323586,
     "end_time": "2022-05-09T16:23:20.410500",
     "exception": false,
     "start_time": "2022-05-09T16:23:20.086914",
     "status": "completed"
    },
    "tags": []
   },
   "outputs": [
    {
     "data": {
      "image/png": "[encoded data removed]",
      "text/plain": [
       "<Figure size 432x288 with 2 Axes>"
      ]
     },
     "metadata": {
      "needs_background": "light"
     },
     "output_type": "display_data"
    }
   ],
   "source": [
    "corr=df.corr()\n",
    "sns.heatmap(corr, \n",
    "annot = True,linewidth = 0.5);\n",
    "#annot = True parametresi sayıların gözükmesini sağlar.\n",
    " #linewidth = 0.5 ise kutucukların arasına verilen değer kadar boşluk açar."
   ]
  },
  {
   "cell_type": "markdown",
   "id": "6acfa430",
   "metadata": {
    "papermill": {
     "duration": 0.047572,
     "end_time": "2022-05-09T16:23:20.507096",
     "exception": false,
     "start_time": "2022-05-09T16:23:20.459524",
     "status": "completed"
    },
    "tags": []
   },
   "source": [
    "R&D Spend ve Profit arasındaki korelasyonu daha iyi görebilmek için scatterplot çizdirelim."
   ]
  },
  {
   "cell_type": "code",
   "execution_count": 11,
   "id": "475c5541",
   "metadata": {
    "execution": {
     "iopub.execute_input": "2022-05-09T16:23:20.605955Z",
     "iopub.status.busy": "2022-05-09T16:23:20.605423Z",
     "iopub.status.idle": "2022-05-09T16:23:20.828304Z",
     "shell.execute_reply": "2022-05-09T16:23:20.827412Z"
    },
    "papermill": {
     "duration": 0.274463,
     "end_time": "2022-05-09T16:23:20.830281",
     "exception": false,
     "start_time": "2022-05-09T16:23:20.555818",
     "status": "completed"
    },
    "tags": []
   },
   "outputs": [
    {
     "data": {
      "image/png": "[encoded data removed]",
      "text/plain": [
       "<Figure size 432x288 with 1 Axes>"
      ]
     },
     "metadata": {
      "needs_background": "light"
     },
     "output_type": "display_data"
    }
   ],
   "source": [
    "\n",
    "sns.scatterplot(x='R&D Spend',y='Profit',data=df,color='green');\n"
   ]
  },
  {
   "cell_type": "markdown",
   "id": "f67d5c91",
   "metadata": {
    "papermill": {
     "duration": 0.050838,
     "end_time": "2022-05-09T16:23:20.932313",
     "exception": false,
     "start_time": "2022-05-09T16:23:20.881475",
     "status": "completed"
    },
    "tags": []
   },
   "source": [
    "Dogrusal ilişkiyi göstermek için ımplot çizdirelim"
   ]
  },
  {
   "cell_type": "code",
   "execution_count": 12,
   "id": "a2ac6dff",
   "metadata": {
    "execution": {
     "iopub.execute_input": "2022-05-09T16:23:21.033671Z",
     "iopub.status.busy": "2022-05-09T16:23:21.033406Z",
     "iopub.status.idle": "2022-05-09T16:23:21.400047Z",
     "shell.execute_reply": "2022-05-09T16:23:21.399118Z"
    },
    "papermill": {
     "duration": 0.421122,
     "end_time": "2022-05-09T16:23:21.402143",
     "exception": false,
     "start_time": "2022-05-09T16:23:20.981021",
     "status": "completed"
    },
    "tags": []
   },
   "outputs": [
    {
     "data": {
      "image/png": "[encoded data removed]",
      "text/plain": [
       "<Figure size 360x360 with 1 Axes>"
      ]
     },
     "metadata": {
      "needs_background": "light"
     },
     "output_type": "display_data"
    }
   ],
   "source": [
    "sns.lmplot(x=\"R&D Spend\", y=\"Profit\", data=df);"
   ]
  },
  {
   "cell_type": "markdown",
   "id": "b71669c1",
   "metadata": {
    "papermill": {
     "duration": 0.049711,
     "end_time": "2022-05-09T16:23:21.502863",
     "exception": false,
     "start_time": "2022-05-09T16:23:21.453152",
     "status": "completed"
    },
    "tags": []
   },
   "source": [
    "Sayısal değişkenlerin dağılımını görmek için df üzerinden histogram çizdirelim."
   ]
  },
  {
   "cell_type": "code",
   "execution_count": 13,
   "id": "658d41f3",
   "metadata": {
    "execution": {
     "iopub.execute_input": "2022-05-09T16:23:21.605772Z",
     "iopub.status.busy": "2022-05-09T16:23:21.605015Z",
     "iopub.status.idle": "2022-05-09T16:23:22.192303Z",
     "shell.execute_reply": "2022-05-09T16:23:22.191422Z"
    },
    "papermill": {
     "duration": 0.641676,
     "end_time": "2022-05-09T16:23:22.194560",
     "exception": false,
     "start_time": "2022-05-09T16:23:21.552884",
     "status": "completed"
    },
    "tags": []
   },
   "outputs": [
    {
     "data": {
      "image/png": "[encoded data removed]",
      "text/plain": [
       "<Figure size 1440x1224 with 4 Axes>"
      ]
     },
     "metadata": {
      "needs_background": "light"
     },
     "output_type": "display_data"
    }
   ],
   "source": [
    "df.hist(figsize=(20,17))\n",
    "plt.show()"
   ]
  },
  {
   "cell_type": "markdown",
   "id": "44b331ab",
   "metadata": {
    "papermill": {
     "duration": 0.05351,
     "end_time": "2022-05-09T16:23:22.299507",
     "exception": false,
     "start_time": "2022-05-09T16:23:22.245997",
     "status": "completed"
    },
    "tags": []
   },
   "source": [
    "Veri çerçevesinin temel istatistik değerlerini görüntüleyelim."
   ]
  },
  {
   "cell_type": "code",
   "execution_count": 14,
   "id": "7a937caf",
   "metadata": {
    "execution": {
     "iopub.execute_input": "2022-05-09T16:23:22.403472Z",
     "iopub.status.busy": "2022-05-09T16:23:22.403201Z",
     "iopub.status.idle": "2022-05-09T16:23:22.427589Z",
     "shell.execute_reply": "2022-05-09T16:23:22.426917Z"
    },
    "papermill": {
     "duration": 0.078906,
     "end_time": "2022-05-09T16:23:22.429509",
     "exception": false,
     "start_time": "2022-05-09T16:23:22.350603",
     "status": "completed"
    },
    "tags": []
   },
   "outputs": [
    {
     "data": {
      "text/html": [
       "<div>\n",
       "<style scoped>\n",
       "    .dataframe tbody tr th:only-of-type {\n",
       "        vertical-align: middle;\n",
       "    }\n",
       "\n",
       "    .dataframe tbody tr th {\n",
       "        vertical-align: top;\n",
       "    }\n",
       "\n",
       "    .dataframe thead th {\n",
       "        text-align: right;\n",
       "    }\n",
       "</style>\n",
       "<table border=\"1\" class=\"dataframe\">\n",
       "  <thead>\n",
       "    <tr style=\"text-align: right;\">\n",
       "      <th></th>\n",
       "      <th>count</th>\n",
       "      <th>mean</th>\n",
       "      <th>std</th>\n",
       "      <th>min</th>\n",
       "      <th>25%</th>\n",
       "      <th>50%</th>\n",
       "      <th>75%</th>\n",
       "      <th>max</th>\n",
       "    </tr>\n",
       "  </thead>\n",
       "  <tbody>\n",
       "    <tr>\n",
       "      <th>R&amp;D Spend</th>\n",
       "      <td>50.0</td>\n",
       "      <td>73721.6156</td>\n",
       "      <td>45902.256482</td>\n",
       "      <td>0.00</td>\n",
       "      <td>39936.3700</td>\n",
       "      <td>73051.080</td>\n",
       "      <td>101602.8000</td>\n",
       "      <td>165349.20</td>\n",
       "    </tr>\n",
       "    <tr>\n",
       "      <th>Administration</th>\n",
       "      <td>50.0</td>\n",
       "      <td>121344.6396</td>\n",
       "      <td>28017.802755</td>\n",
       "      <td>51283.14</td>\n",
       "      <td>103730.8750</td>\n",
       "      <td>122699.795</td>\n",
       "      <td>144842.1800</td>\n",
       "      <td>182645.56</td>\n",
       "    </tr>\n",
       "    <tr>\n",
       "      <th>Marketing Spend</th>\n",
       "      <td>50.0</td>\n",
       "      <td>211025.0978</td>\n",
       "      <td>122290.310726</td>\n",
       "      <td>0.00</td>\n",
       "      <td>129300.1325</td>\n",
       "      <td>212716.240</td>\n",
       "      <td>299469.0850</td>\n",
       "      <td>471784.10</td>\n",
       "    </tr>\n",
       "    <tr>\n",
       "      <th>Profit</th>\n",
       "      <td>50.0</td>\n",
       "      <td>112012.6392</td>\n",
       "      <td>40306.180338</td>\n",
       "      <td>14681.40</td>\n",
       "      <td>90138.9025</td>\n",
       "      <td>107978.190</td>\n",
       "      <td>139765.9775</td>\n",
       "      <td>192261.83</td>\n",
       "    </tr>\n",
       "  </tbody>\n",
       "</table>\n",
       "</div>"
      ],
      "text/plain": [
       "                 count         mean            std       min          25%  \\\n",
       "R&D Spend         50.0   73721.6156   45902.256482      0.00   39936.3700   \n",
       "Administration    50.0  121344.6396   28017.802755  51283.14  103730.8750   \n",
       "Marketing Spend   50.0  211025.0978  122290.310726      0.00  129300.1325   \n",
       "Profit            50.0  112012.6392   40306.180338  14681.40   90138.9025   \n",
       "\n",
       "                        50%          75%        max  \n",
       "R&D Spend         73051.080  101602.8000  165349.20  \n",
       "Administration   122699.795  144842.1800  182645.56  \n",
       "Marketing Spend  212716.240  299469.0850  471784.10  \n",
       "Profit           107978.190  139765.9775  192261.83  "
      ]
     },
     "execution_count": 14,
     "metadata": {},
     "output_type": "execute_result"
    }
   ],
   "source": [
    "df.describe().T"
   ]
  },
  {
   "cell_type": "markdown",
   "id": "469ddfc1",
   "metadata": {
    "papermill": {
     "duration": 0.051429,
     "end_time": "2022-05-09T16:23:22.533505",
     "exception": false,
     "start_time": "2022-05-09T16:23:22.482076",
     "status": "completed"
    },
    "tags": []
   },
   "source": [
    "State'a ait benzersiz değerleri görüntüleyelim."
   ]
  },
  {
   "cell_type": "code",
   "execution_count": 15,
   "id": "1bb5035f",
   "metadata": {
    "execution": {
     "iopub.execute_input": "2022-05-09T16:23:22.642161Z",
     "iopub.status.busy": "2022-05-09T16:23:22.641694Z",
     "iopub.status.idle": "2022-05-09T16:23:22.646652Z",
     "shell.execute_reply": "2022-05-09T16:23:22.646044Z"
    },
    "papermill": {
     "duration": 0.06064,
     "end_time": "2022-05-09T16:23:22.648451",
     "exception": false,
     "start_time": "2022-05-09T16:23:22.587811",
     "status": "completed"
    },
    "tags": []
   },
   "outputs": [
    {
     "data": {
      "text/plain": [
       "array(['New York', 'California', 'Florida'], dtype=object)"
      ]
     },
     "execution_count": 15,
     "metadata": {},
     "output_type": "execute_result"
    }
   ],
   "source": [
    "df['State'].unique()"
   ]
  },
  {
   "cell_type": "code",
   "execution_count": 16,
   "id": "350413ab",
   "metadata": {
    "execution": {
     "iopub.execute_input": "2022-05-09T16:23:22.754988Z",
     "iopub.status.busy": "2022-05-09T16:23:22.754505Z",
     "iopub.status.idle": "2022-05-09T16:23:22.759390Z",
     "shell.execute_reply": "2022-05-09T16:23:22.758654Z"
    },
    "papermill": {
     "duration": 0.060121,
     "end_time": "2022-05-09T16:23:22.761230",
     "exception": false,
     "start_time": "2022-05-09T16:23:22.701109",
     "status": "completed"
    },
    "tags": []
   },
   "outputs": [
    {
     "data": {
      "text/plain": [
       "3"
      ]
     },
     "execution_count": 16,
     "metadata": {},
     "output_type": "execute_result"
    }
   ],
   "source": [
    "df['State'].nunique()"
   ]
  },
  {
   "cell_type": "markdown",
   "id": "998d0b8d",
   "metadata": {
    "papermill": {
     "duration": 0.051593,
     "end_time": "2022-05-09T16:23:22.865041",
     "exception": false,
     "start_time": "2022-05-09T16:23:22.813448",
     "status": "completed"
    },
    "tags": []
   },
   "source": [
    "get_dummies yardımıyla State'a dair kategorik öznitelik çıkarımlarında bulunalım. Çünkü State'ların birbirine üstünlüğü yok, nominaller. Ordinal değil."
   ]
  },
  {
   "cell_type": "code",
   "execution_count": 17,
   "id": "9e63b6fd",
   "metadata": {
    "execution": {
     "iopub.execute_input": "2022-05-09T16:23:22.971067Z",
     "iopub.status.busy": "2022-05-09T16:23:22.970623Z",
     "iopub.status.idle": "2022-05-09T16:23:22.980872Z",
     "shell.execute_reply": "2022-05-09T16:23:22.980353Z"
    },
    "papermill": {
     "duration": 0.065348,
     "end_time": "2022-05-09T16:23:22.982558",
     "exception": false,
     "start_time": "2022-05-09T16:23:22.917210",
     "status": "completed"
    },
    "tags": []
   },
   "outputs": [
    {
     "data": {
      "text/html": [
       "<div>\n",
       "<style scoped>\n",
       "    .dataframe tbody tr th:only-of-type {\n",
       "        vertical-align: middle;\n",
       "    }\n",
       "\n",
       "    .dataframe tbody tr th {\n",
       "        vertical-align: top;\n",
       "    }\n",
       "\n",
       "    .dataframe thead th {\n",
       "        text-align: right;\n",
       "    }\n",
       "</style>\n",
       "<table border=\"1\" class=\"dataframe\">\n",
       "  <thead>\n",
       "    <tr style=\"text-align: right;\">\n",
       "      <th></th>\n",
       "      <th>California</th>\n",
       "      <th>Florida</th>\n",
       "      <th>New York</th>\n",
       "    </tr>\n",
       "  </thead>\n",
       "  <tbody>\n",
       "    <tr>\n",
       "      <th>0</th>\n",
       "      <td>0</td>\n",
       "      <td>0</td>\n",
       "      <td>1</td>\n",
       "    </tr>\n",
       "    <tr>\n",
       "      <th>1</th>\n",
       "      <td>1</td>\n",
       "      <td>0</td>\n",
       "      <td>0</td>\n",
       "    </tr>\n",
       "    <tr>\n",
       "      <th>2</th>\n",
       "      <td>0</td>\n",
       "      <td>1</td>\n",
       "      <td>0</td>\n",
       "    </tr>\n",
       "    <tr>\n",
       "      <th>3</th>\n",
       "      <td>0</td>\n",
       "      <td>0</td>\n",
       "      <td>1</td>\n",
       "    </tr>\n",
       "    <tr>\n",
       "      <th>4</th>\n",
       "      <td>0</td>\n",
       "      <td>1</td>\n",
       "      <td>0</td>\n",
       "    </tr>\n",
       "    <tr>\n",
       "      <th>5</th>\n",
       "      <td>0</td>\n",
       "      <td>0</td>\n",
       "      <td>1</td>\n",
       "    </tr>\n",
       "    <tr>\n",
       "      <th>6</th>\n",
       "      <td>1</td>\n",
       "      <td>0</td>\n",
       "      <td>0</td>\n",
       "    </tr>\n",
       "    <tr>\n",
       "      <th>7</th>\n",
       "      <td>0</td>\n",
       "      <td>1</td>\n",
       "      <td>0</td>\n",
       "    </tr>\n",
       "    <tr>\n",
       "      <th>8</th>\n",
       "      <td>0</td>\n",
       "      <td>0</td>\n",
       "      <td>1</td>\n",
       "    </tr>\n",
       "    <tr>\n",
       "      <th>9</th>\n",
       "      <td>1</td>\n",
       "      <td>0</td>\n",
       "      <td>0</td>\n",
       "    </tr>\n",
       "    <tr>\n",
       "      <th>10</th>\n",
       "      <td>0</td>\n",
       "      <td>1</td>\n",
       "      <td>0</td>\n",
       "    </tr>\n",
       "    <tr>\n",
       "      <th>11</th>\n",
       "      <td>1</td>\n",
       "      <td>0</td>\n",
       "      <td>0</td>\n",
       "    </tr>\n",
       "    <tr>\n",
       "      <th>12</th>\n",
       "      <td>0</td>\n",
       "      <td>1</td>\n",
       "      <td>0</td>\n",
       "    </tr>\n",
       "    <tr>\n",
       "      <th>13</th>\n",
       "      <td>1</td>\n",
       "      <td>0</td>\n",
       "      <td>0</td>\n",
       "    </tr>\n",
       "    <tr>\n",
       "      <th>14</th>\n",
       "      <td>0</td>\n",
       "      <td>1</td>\n",
       "      <td>0</td>\n",
       "    </tr>\n",
       "    <tr>\n",
       "      <th>15</th>\n",
       "      <td>0</td>\n",
       "      <td>0</td>\n",
       "      <td>1</td>\n",
       "    </tr>\n",
       "    <tr>\n",
       "      <th>16</th>\n",
       "      <td>1</td>\n",
       "      <td>0</td>\n",
       "      <td>0</td>\n",
       "    </tr>\n",
       "    <tr>\n",
       "      <th>17</th>\n",
       "      <td>0</td>\n",
       "      <td>0</td>\n",
       "      <td>1</td>\n",
       "    </tr>\n",
       "    <tr>\n",
       "      <th>18</th>\n",
       "      <td>0</td>\n",
       "      <td>1</td>\n",
       "      <td>0</td>\n",
       "    </tr>\n",
       "    <tr>\n",
       "      <th>19</th>\n",
       "      <td>0</td>\n",
       "      <td>0</td>\n",
       "      <td>1</td>\n",
       "    </tr>\n",
       "    <tr>\n",
       "      <th>20</th>\n",
       "      <td>1</td>\n",
       "      <td>0</td>\n",
       "      <td>0</td>\n",
       "    </tr>\n",
       "    <tr>\n",
       "      <th>21</th>\n",
       "      <td>0</td>\n",
       "      <td>0</td>\n",
       "      <td>1</td>\n",
       "    </tr>\n",
       "    <tr>\n",
       "      <th>22</th>\n",
       "      <td>0</td>\n",
       "      <td>1</td>\n",
       "      <td>0</td>\n",
       "    </tr>\n",
       "    <tr>\n",
       "      <th>23</th>\n",
       "      <td>0</td>\n",
       "      <td>1</td>\n",
       "      <td>0</td>\n",
       "    </tr>\n",
       "    <tr>\n",
       "      <th>24</th>\n",
       "      <td>0</td>\n",
       "      <td>0</td>\n",
       "      <td>1</td>\n",
       "    </tr>\n",
       "    <tr>\n",
       "      <th>25</th>\n",
       "      <td>1</td>\n",
       "      <td>0</td>\n",
       "      <td>0</td>\n",
       "    </tr>\n",
       "    <tr>\n",
       "      <th>26</th>\n",
       "      <td>0</td>\n",
       "      <td>1</td>\n",
       "      <td>0</td>\n",
       "    </tr>\n",
       "    <tr>\n",
       "      <th>27</th>\n",
       "      <td>0</td>\n",
       "      <td>0</td>\n",
       "      <td>1</td>\n",
       "    </tr>\n",
       "    <tr>\n",
       "      <th>28</th>\n",
       "      <td>0</td>\n",
       "      <td>1</td>\n",
       "      <td>0</td>\n",
       "    </tr>\n",
       "    <tr>\n",
       "      <th>29</th>\n",
       "      <td>0</td>\n",
       "      <td>0</td>\n",
       "      <td>1</td>\n",
       "    </tr>\n",
       "    <tr>\n",
       "      <th>30</th>\n",
       "      <td>0</td>\n",
       "      <td>1</td>\n",
       "      <td>0</td>\n",
       "    </tr>\n",
       "    <tr>\n",
       "      <th>31</th>\n",
       "      <td>0</td>\n",
       "      <td>0</td>\n",
       "      <td>1</td>\n",
       "    </tr>\n",
       "    <tr>\n",
       "      <th>32</th>\n",
       "      <td>1</td>\n",
       "      <td>0</td>\n",
       "      <td>0</td>\n",
       "    </tr>\n",
       "    <tr>\n",
       "      <th>33</th>\n",
       "      <td>0</td>\n",
       "      <td>1</td>\n",
       "      <td>0</td>\n",
       "    </tr>\n",
       "    <tr>\n",
       "      <th>34</th>\n",
       "      <td>1</td>\n",
       "      <td>0</td>\n",
       "      <td>0</td>\n",
       "    </tr>\n",
       "    <tr>\n",
       "      <th>35</th>\n",
       "      <td>0</td>\n",
       "      <td>0</td>\n",
       "      <td>1</td>\n",
       "    </tr>\n",
       "    <tr>\n",
       "      <th>36</th>\n",
       "      <td>0</td>\n",
       "      <td>1</td>\n",
       "      <td>0</td>\n",
       "    </tr>\n",
       "    <tr>\n",
       "      <th>37</th>\n",
       "      <td>1</td>\n",
       "      <td>0</td>\n",
       "      <td>0</td>\n",
       "    </tr>\n",
       "    <tr>\n",
       "      <th>38</th>\n",
       "      <td>0</td>\n",
       "      <td>0</td>\n",
       "      <td>1</td>\n",
       "    </tr>\n",
       "    <tr>\n",
       "      <th>39</th>\n",
       "      <td>1</td>\n",
       "      <td>0</td>\n",
       "      <td>0</td>\n",
       "    </tr>\n",
       "    <tr>\n",
       "      <th>40</th>\n",
       "      <td>1</td>\n",
       "      <td>0</td>\n",
       "      <td>0</td>\n",
       "    </tr>\n",
       "    <tr>\n",
       "      <th>41</th>\n",
       "      <td>0</td>\n",
       "      <td>1</td>\n",
       "      <td>0</td>\n",
       "    </tr>\n",
       "    <tr>\n",
       "      <th>42</th>\n",
       "      <td>1</td>\n",
       "      <td>0</td>\n",
       "      <td>0</td>\n",
       "    </tr>\n",
       "    <tr>\n",
       "      <th>43</th>\n",
       "      <td>0</td>\n",
       "      <td>0</td>\n",
       "      <td>1</td>\n",
       "    </tr>\n",
       "    <tr>\n",
       "      <th>44</th>\n",
       "      <td>1</td>\n",
       "      <td>0</td>\n",
       "      <td>0</td>\n",
       "    </tr>\n",
       "    <tr>\n",
       "      <th>45</th>\n",
       "      <td>0</td>\n",
       "      <td>0</td>\n",
       "      <td>1</td>\n",
       "    </tr>\n",
       "    <tr>\n",
       "      <th>46</th>\n",
       "      <td>0</td>\n",
       "      <td>1</td>\n",
       "      <td>0</td>\n",
       "    </tr>\n",
       "    <tr>\n",
       "      <th>47</th>\n",
       "      <td>1</td>\n",
       "      <td>0</td>\n",
       "      <td>0</td>\n",
       "    </tr>\n",
       "    <tr>\n",
       "      <th>48</th>\n",
       "      <td>0</td>\n",
       "      <td>0</td>\n",
       "      <td>1</td>\n",
       "    </tr>\n",
       "    <tr>\n",
       "      <th>49</th>\n",
       "      <td>1</td>\n",
       "      <td>0</td>\n",
       "      <td>0</td>\n",
       "    </tr>\n",
       "  </tbody>\n",
       "</table>\n",
       "</div>"
      ],
      "text/plain": [
       "    California  Florida  New York\n",
       "0            0        0         1\n",
       "1            1        0         0\n",
       "2            0        1         0\n",
       "3            0        0         1\n",
       "4            0        1         0\n",
       "5            0        0         1\n",
       "6            1        0         0\n",
       "7            0        1         0\n",
       "8            0        0         1\n",
       "9            1        0         0\n",
       "10           0        1         0\n",
       "11           1        0         0\n",
       "12           0        1         0\n",
       "13           1        0         0\n",
       "14           0        1         0\n",
       "15           0        0         1\n",
       "16           1        0         0\n",
       "17           0        0         1\n",
       "18           0        1         0\n",
       "19           0        0         1\n",
       "20           1        0         0\n",
       "21           0        0         1\n",
       "22           0        1         0\n",
       "23           0        1         0\n",
       "24           0        0         1\n",
       "25           1        0         0\n",
       "26           0        1         0\n",
       "27           0        0         1\n",
       "28           0        1         0\n",
       "29           0        0         1\n",
       "30           0        1         0\n",
       "31           0        0         1\n",
       "32           1        0         0\n",
       "33           0        1         0\n",
       "34           1        0         0\n",
       "35           0        0         1\n",
       "36           0        1         0\n",
       "37           1        0         0\n",
       "38           0        0         1\n",
       "39           1        0         0\n",
       "40           1        0         0\n",
       "41           0        1         0\n",
       "42           1        0         0\n",
       "43           0        0         1\n",
       "44           1        0         0\n",
       "45           0        0         1\n",
       "46           0        1         0\n",
       "47           1        0         0\n",
       "48           0        0         1\n",
       "49           1        0         0"
      ]
     },
     "execution_count": 17,
     "metadata": {},
     "output_type": "execute_result"
    }
   ],
   "source": [
    "pd.get_dummies(df['State'])"
   ]
  },
  {
   "cell_type": "code",
   "execution_count": 18,
   "id": "4bf12f46",
   "metadata": {
    "execution": {
     "iopub.execute_input": "2022-05-09T16:23:23.091368Z",
     "iopub.status.busy": "2022-05-09T16:23:23.091063Z",
     "iopub.status.idle": "2022-05-09T16:23:23.096188Z",
     "shell.execute_reply": "2022-05-09T16:23:23.095385Z"
    },
    "papermill": {
     "duration": 0.06223,
     "end_time": "2022-05-09T16:23:23.097914",
     "exception": false,
     "start_time": "2022-05-09T16:23:23.035684",
     "status": "completed"
    },
    "tags": []
   },
   "outputs": [],
   "source": [
    "dummies=pd.get_dummies(df['State'],prefix='State')"
   ]
  },
  {
   "cell_type": "code",
   "execution_count": 19,
   "id": "da458f2d",
   "metadata": {
    "execution": {
     "iopub.execute_input": "2022-05-09T16:23:23.205984Z",
     "iopub.status.busy": "2022-05-09T16:23:23.205192Z",
     "iopub.status.idle": "2022-05-09T16:23:23.210908Z",
     "shell.execute_reply": "2022-05-09T16:23:23.209874Z"
    },
    "papermill": {
     "duration": 0.06181,
     "end_time": "2022-05-09T16:23:23.212780",
     "exception": false,
     "start_time": "2022-05-09T16:23:23.150970",
     "status": "completed"
    },
    "tags": []
   },
   "outputs": [],
   "source": [
    "df=pd.concat([df,dummies],axis=1)"
   ]
  },
  {
   "cell_type": "code",
   "execution_count": 20,
   "id": "31d882c3",
   "metadata": {
    "execution": {
     "iopub.execute_input": "2022-05-09T16:23:23.321792Z",
     "iopub.status.busy": "2022-05-09T16:23:23.321507Z",
     "iopub.status.idle": "2022-05-09T16:23:23.333486Z",
     "shell.execute_reply": "2022-05-09T16:23:23.332838Z"
    },
    "papermill": {
     "duration": 0.069267,
     "end_time": "2022-05-09T16:23:23.335239",
     "exception": false,
     "start_time": "2022-05-09T16:23:23.265972",
     "status": "completed"
    },
    "tags": []
   },
   "outputs": [
    {
     "data": {
      "text/html": [
       "<div>\n",
       "<style scoped>\n",
       "    .dataframe tbody tr th:only-of-type {\n",
       "        vertical-align: middle;\n",
       "    }\n",
       "\n",
       "    .dataframe tbody tr th {\n",
       "        vertical-align: top;\n",
       "    }\n",
       "\n",
       "    .dataframe thead th {\n",
       "        text-align: right;\n",
       "    }\n",
       "</style>\n",
       "<table border=\"1\" class=\"dataframe\">\n",
       "  <thead>\n",
       "    <tr style=\"text-align: right;\">\n",
       "      <th></th>\n",
       "      <th>R&amp;D Spend</th>\n",
       "      <th>Administration</th>\n",
       "      <th>Marketing Spend</th>\n",
       "      <th>State</th>\n",
       "      <th>Profit</th>\n",
       "      <th>State_California</th>\n",
       "      <th>State_Florida</th>\n",
       "      <th>State_New York</th>\n",
       "    </tr>\n",
       "  </thead>\n",
       "  <tbody>\n",
       "    <tr>\n",
       "      <th>0</th>\n",
       "      <td>165349.20</td>\n",
       "      <td>136897.80</td>\n",
       "      <td>471784.10</td>\n",
       "      <td>New York</td>\n",
       "      <td>192261.83</td>\n",
       "      <td>0</td>\n",
       "      <td>0</td>\n",
       "      <td>1</td>\n",
       "    </tr>\n",
       "    <tr>\n",
       "      <th>1</th>\n",
       "      <td>162597.70</td>\n",
       "      <td>151377.59</td>\n",
       "      <td>443898.53</td>\n",
       "      <td>California</td>\n",
       "      <td>191792.06</td>\n",
       "      <td>1</td>\n",
       "      <td>0</td>\n",
       "      <td>0</td>\n",
       "    </tr>\n",
       "    <tr>\n",
       "      <th>2</th>\n",
       "      <td>153441.51</td>\n",
       "      <td>101145.55</td>\n",
       "      <td>407934.54</td>\n",
       "      <td>Florida</td>\n",
       "      <td>191050.39</td>\n",
       "      <td>0</td>\n",
       "      <td>1</td>\n",
       "      <td>0</td>\n",
       "    </tr>\n",
       "    <tr>\n",
       "      <th>3</th>\n",
       "      <td>144372.41</td>\n",
       "      <td>118671.85</td>\n",
       "      <td>383199.62</td>\n",
       "      <td>New York</td>\n",
       "      <td>182901.99</td>\n",
       "      <td>0</td>\n",
       "      <td>0</td>\n",
       "      <td>1</td>\n",
       "    </tr>\n",
       "    <tr>\n",
       "      <th>4</th>\n",
       "      <td>142107.34</td>\n",
       "      <td>91391.77</td>\n",
       "      <td>366168.42</td>\n",
       "      <td>Florida</td>\n",
       "      <td>166187.94</td>\n",
       "      <td>0</td>\n",
       "      <td>1</td>\n",
       "      <td>0</td>\n",
       "    </tr>\n",
       "  </tbody>\n",
       "</table>\n",
       "</div>"
      ],
      "text/plain": [
       "   R&D Spend  Administration  Marketing Spend       State     Profit  \\\n",
       "0  165349.20       136897.80        471784.10    New York  192261.83   \n",
       "1  162597.70       151377.59        443898.53  California  191792.06   \n",
       "2  153441.51       101145.55        407934.54     Florida  191050.39   \n",
       "3  144372.41       118671.85        383199.62    New York  182901.99   \n",
       "4  142107.34        91391.77        366168.42     Florida  166187.94   \n",
       "\n",
       "   State_California  State_Florida  State_New York  \n",
       "0                 0              0               1  \n",
       "1                 1              0               0  \n",
       "2                 0              1               0  \n",
       "3                 0              0               1  \n",
       "4                 0              1               0  "
      ]
     },
     "execution_count": 20,
     "metadata": {},
     "output_type": "execute_result"
    }
   ],
   "source": [
    "df.head()"
   ]
  },
  {
   "cell_type": "markdown",
   "id": "ed90945a",
   "metadata": {
    "papermill": {
     "duration": 0.055712,
     "end_time": "2022-05-09T16:23:23.444807",
     "exception": false,
     "start_time": "2022-05-09T16:23:23.389095",
     "status": "completed"
    },
    "tags": []
   },
   "source": [
    "State özniteliğini silip dummy olarak yaratılan State'lardan da birisini hariç tutarak veri çerçevemizi güncelleyelim."
   ]
  },
  {
   "cell_type": "code",
   "execution_count": 21,
   "id": "e9d5e9ad",
   "metadata": {
    "execution": {
     "iopub.execute_input": "2022-05-09T16:23:23.554837Z",
     "iopub.status.busy": "2022-05-09T16:23:23.554228Z",
     "iopub.status.idle": "2022-05-09T16:23:23.569543Z",
     "shell.execute_reply": "2022-05-09T16:23:23.568619Z"
    },
    "papermill": {
     "duration": 0.071699,
     "end_time": "2022-05-09T16:23:23.571533",
     "exception": false,
     "start_time": "2022-05-09T16:23:23.499834",
     "status": "completed"
    },
    "tags": []
   },
   "outputs": [
    {
     "data": {
      "text/html": [
       "<div>\n",
       "<style scoped>\n",
       "    .dataframe tbody tr th:only-of-type {\n",
       "        vertical-align: middle;\n",
       "    }\n",
       "\n",
       "    .dataframe tbody tr th {\n",
       "        vertical-align: top;\n",
       "    }\n",
       "\n",
       "    .dataframe thead th {\n",
       "        text-align: right;\n",
       "    }\n",
       "</style>\n",
       "<table border=\"1\" class=\"dataframe\">\n",
       "  <thead>\n",
       "    <tr style=\"text-align: right;\">\n",
       "      <th></th>\n",
       "      <th>R&amp;D Spend</th>\n",
       "      <th>Administration</th>\n",
       "      <th>Marketing Spend</th>\n",
       "      <th>Profit</th>\n",
       "      <th>State_Florida</th>\n",
       "      <th>State_New York</th>\n",
       "    </tr>\n",
       "  </thead>\n",
       "  <tbody>\n",
       "    <tr>\n",
       "      <th>0</th>\n",
       "      <td>165349.20</td>\n",
       "      <td>136897.80</td>\n",
       "      <td>471784.10</td>\n",
       "      <td>192261.83</td>\n",
       "      <td>0</td>\n",
       "      <td>1</td>\n",
       "    </tr>\n",
       "    <tr>\n",
       "      <th>1</th>\n",
       "      <td>162597.70</td>\n",
       "      <td>151377.59</td>\n",
       "      <td>443898.53</td>\n",
       "      <td>191792.06</td>\n",
       "      <td>0</td>\n",
       "      <td>0</td>\n",
       "    </tr>\n",
       "    <tr>\n",
       "      <th>2</th>\n",
       "      <td>153441.51</td>\n",
       "      <td>101145.55</td>\n",
       "      <td>407934.54</td>\n",
       "      <td>191050.39</td>\n",
       "      <td>1</td>\n",
       "      <td>0</td>\n",
       "    </tr>\n",
       "    <tr>\n",
       "      <th>3</th>\n",
       "      <td>144372.41</td>\n",
       "      <td>118671.85</td>\n",
       "      <td>383199.62</td>\n",
       "      <td>182901.99</td>\n",
       "      <td>0</td>\n",
       "      <td>1</td>\n",
       "    </tr>\n",
       "    <tr>\n",
       "      <th>4</th>\n",
       "      <td>142107.34</td>\n",
       "      <td>91391.77</td>\n",
       "      <td>366168.42</td>\n",
       "      <td>166187.94</td>\n",
       "      <td>1</td>\n",
       "      <td>0</td>\n",
       "    </tr>\n",
       "  </tbody>\n",
       "</table>\n",
       "</div>"
      ],
      "text/plain": [
       "   R&D Spend  Administration  Marketing Spend     Profit  State_Florida  \\\n",
       "0  165349.20       136897.80        471784.10  192261.83              0   \n",
       "1  162597.70       151377.59        443898.53  191792.06              0   \n",
       "2  153441.51       101145.55        407934.54  191050.39              1   \n",
       "3  144372.41       118671.85        383199.62  182901.99              0   \n",
       "4  142107.34        91391.77        366168.42  166187.94              1   \n",
       "\n",
       "   State_New York  \n",
       "0               1  \n",
       "1               0  \n",
       "2               0  \n",
       "3               1  \n",
       "4               0  "
      ]
     },
     "execution_count": 21,
     "metadata": {},
     "output_type": "execute_result"
    }
   ],
   "source": [
    "df = startups\n",
    "df=pd.get_dummies(df, columns=['State'], drop_first=True)\n",
    "df.head()"
   ]
  },
  {
   "cell_type": "markdown",
   "id": "26d50a63",
   "metadata": {
    "papermill": {
     "duration": 0.053289,
     "end_time": "2022-05-09T16:23:23.679701",
     "exception": false,
     "start_time": "2022-05-09T16:23:23.626412",
     "status": "completed"
    },
    "tags": []
   },
   "source": [
    "Veri çerçevemizi bağımlı ve bağımsız değişkenler olmak üzere bölütleyelim."
   ]
  },
  {
   "cell_type": "code",
   "execution_count": 22,
   "id": "93aa4a96",
   "metadata": {
    "execution": {
     "iopub.execute_input": "2022-05-09T16:23:23.790728Z",
     "iopub.status.busy": "2022-05-09T16:23:23.790430Z",
     "iopub.status.idle": "2022-05-09T16:23:23.796040Z",
     "shell.execute_reply": "2022-05-09T16:23:23.795140Z"
    },
    "papermill": {
     "duration": 0.064332,
     "end_time": "2022-05-09T16:23:23.797913",
     "exception": false,
     "start_time": "2022-05-09T16:23:23.733581",
     "status": "completed"
    },
    "tags": []
   },
   "outputs": [],
   "source": [
    "X = df.drop(\"Profit\", axis = 1)\n",
    "y = df[\"Profit\"]"
   ]
  },
  {
   "cell_type": "markdown",
   "id": "6ca61bc0",
   "metadata": {
    "papermill": {
     "duration": 0.053864,
     "end_time": "2022-05-09T16:23:23.905461",
     "exception": false,
     "start_time": "2022-05-09T16:23:23.851597",
     "status": "completed"
    },
    "tags": []
   },
   "source": [
    "Bağımlı ve bağımsız değişkenleri kontrol edelim."
   ]
  },
  {
   "cell_type": "code",
   "execution_count": 23,
   "id": "3fefecf7",
   "metadata": {
    "execution": {
     "iopub.execute_input": "2022-05-09T16:23:24.015802Z",
     "iopub.status.busy": "2022-05-09T16:23:24.014952Z",
     "iopub.status.idle": "2022-05-09T16:23:24.026252Z",
     "shell.execute_reply": "2022-05-09T16:23:24.025434Z"
    },
    "papermill": {
     "duration": 0.069417,
     "end_time": "2022-05-09T16:23:24.028133",
     "exception": false,
     "start_time": "2022-05-09T16:23:23.958716",
     "status": "completed"
    },
    "tags": []
   },
   "outputs": [
    {
     "data": {
      "text/html": [
       "<div>\n",
       "<style scoped>\n",
       "    .dataframe tbody tr th:only-of-type {\n",
       "        vertical-align: middle;\n",
       "    }\n",
       "\n",
       "    .dataframe tbody tr th {\n",
       "        vertical-align: top;\n",
       "    }\n",
       "\n",
       "    .dataframe thead th {\n",
       "        text-align: right;\n",
       "    }\n",
       "</style>\n",
       "<table border=\"1\" class=\"dataframe\">\n",
       "  <thead>\n",
       "    <tr style=\"text-align: right;\">\n",
       "      <th></th>\n",
       "      <th>R&amp;D Spend</th>\n",
       "      <th>Administration</th>\n",
       "      <th>Marketing Spend</th>\n",
       "      <th>State_Florida</th>\n",
       "      <th>State_New York</th>\n",
       "    </tr>\n",
       "  </thead>\n",
       "  <tbody>\n",
       "    <tr>\n",
       "      <th>0</th>\n",
       "      <td>165349.20</td>\n",
       "      <td>136897.80</td>\n",
       "      <td>471784.10</td>\n",
       "      <td>0</td>\n",
       "      <td>1</td>\n",
       "    </tr>\n",
       "    <tr>\n",
       "      <th>1</th>\n",
       "      <td>162597.70</td>\n",
       "      <td>151377.59</td>\n",
       "      <td>443898.53</td>\n",
       "      <td>0</td>\n",
       "      <td>0</td>\n",
       "    </tr>\n",
       "    <tr>\n",
       "      <th>2</th>\n",
       "      <td>153441.51</td>\n",
       "      <td>101145.55</td>\n",
       "      <td>407934.54</td>\n",
       "      <td>1</td>\n",
       "      <td>0</td>\n",
       "    </tr>\n",
       "    <tr>\n",
       "      <th>3</th>\n",
       "      <td>144372.41</td>\n",
       "      <td>118671.85</td>\n",
       "      <td>383199.62</td>\n",
       "      <td>0</td>\n",
       "      <td>1</td>\n",
       "    </tr>\n",
       "    <tr>\n",
       "      <th>4</th>\n",
       "      <td>142107.34</td>\n",
       "      <td>91391.77</td>\n",
       "      <td>366168.42</td>\n",
       "      <td>1</td>\n",
       "      <td>0</td>\n",
       "    </tr>\n",
       "  </tbody>\n",
       "</table>\n",
       "</div>"
      ],
      "text/plain": [
       "   R&D Spend  Administration  Marketing Spend  State_Florida  State_New York\n",
       "0  165349.20       136897.80        471784.10              0               1\n",
       "1  162597.70       151377.59        443898.53              0               0\n",
       "2  153441.51       101145.55        407934.54              1               0\n",
       "3  144372.41       118671.85        383199.62              0               1\n",
       "4  142107.34        91391.77        366168.42              1               0"
      ]
     },
     "execution_count": 23,
     "metadata": {},
     "output_type": "execute_result"
    }
   ],
   "source": [
    "X.head()"
   ]
  },
  {
   "cell_type": "code",
   "execution_count": 24,
   "id": "f55ced69",
   "metadata": {
    "execution": {
     "iopub.execute_input": "2022-05-09T16:23:24.143315Z",
     "iopub.status.busy": "2022-05-09T16:23:24.143052Z",
     "iopub.status.idle": "2022-05-09T16:23:24.150130Z",
     "shell.execute_reply": "2022-05-09T16:23:24.149373Z"
    },
    "papermill": {
     "duration": 0.067422,
     "end_time": "2022-05-09T16:23:24.151960",
     "exception": false,
     "start_time": "2022-05-09T16:23:24.084538",
     "status": "completed"
    },
    "tags": []
   },
   "outputs": [
    {
     "data": {
      "text/plain": [
       "0    192261.83\n",
       "1    191792.06\n",
       "2    191050.39\n",
       "3    182901.99\n",
       "4    166187.94\n",
       "Name: Profit, dtype: float64"
      ]
     },
     "execution_count": 24,
     "metadata": {},
     "output_type": "execute_result"
    }
   ],
   "source": [
    "y.head() #y degişkenini (bagımlı degişkeni) olan profiti görüntülemektedir"
   ]
  },
  {
   "cell_type": "markdown",
   "id": "99548991",
   "metadata": {
    "papermill": {
     "duration": 0.05417,
     "end_time": "2022-05-09T16:23:24.260680",
     "exception": false,
     "start_time": "2022-05-09T16:23:24.206510",
     "status": "completed"
    },
    "tags": []
   },
   "source": [
    "Bu bağımlı ve bağımsız değişkenlerden train ve test olmak üzere 4 parça oluşturalım. Bunu yapmak için train_test_split kullanalım."
   ]
  },
  {
   "cell_type": "code",
   "execution_count": 25,
   "id": "68eb8fce",
   "metadata": {
    "execution": {
     "iopub.execute_input": "2022-05-09T16:23:24.371603Z",
     "iopub.status.busy": "2022-05-09T16:23:24.371036Z",
     "iopub.status.idle": "2022-05-09T16:23:24.696735Z",
     "shell.execute_reply": "2022-05-09T16:23:24.695873Z"
    },
    "papermill": {
     "duration": 0.383595,
     "end_time": "2022-05-09T16:23:24.699124",
     "exception": false,
     "start_time": "2022-05-09T16:23:24.315529",
     "status": "completed"
    },
    "tags": []
   },
   "outputs": [],
   "source": [
    "from sklearn.model_selection import train_test_split\n",
    "X_train, X_test, y_train, y_test = train_test_split(X, y, test_size = 0.20, random_state = 42)"
   ]
  },
  {
   "cell_type": "markdown",
   "id": "ee1eb952",
   "metadata": {
    "papermill": {
     "duration": 0.054891,
     "end_time": "2022-05-09T16:23:24.809415",
     "exception": false,
     "start_time": "2022-05-09T16:23:24.754524",
     "status": "completed"
    },
    "tags": []
   },
   "source": [
    "![](https://miro.medium.com/max/776/1*QSXxOderidihfo1itIE7cw.png)"
   ]
  },
  {
   "cell_type": "markdown",
   "id": "264b2efb",
   "metadata": {
    "papermill": {
     "duration": 0.054333,
     "end_time": "2022-05-09T16:23:24.918246",
     "exception": false,
     "start_time": "2022-05-09T16:23:24.863913",
     "status": "completed"
    },
    "tags": []
   },
   "source": [
    "4 parça değişkeni kontrol edelim."
   ]
  },
  {
   "cell_type": "code",
   "execution_count": 26,
   "id": "95a94800",
   "metadata": {
    "execution": {
     "iopub.execute_input": "2022-05-09T16:23:25.028998Z",
     "iopub.status.busy": "2022-05-09T16:23:25.028440Z",
     "iopub.status.idle": "2022-05-09T16:23:25.034067Z",
     "shell.execute_reply": "2022-05-09T16:23:25.033524Z"
    },
    "papermill": {
     "duration": 0.062825,
     "end_time": "2022-05-09T16:23:25.035822",
     "exception": false,
     "start_time": "2022-05-09T16:23:24.972997",
     "status": "completed"
    },
    "tags": []
   },
   "outputs": [
    {
     "data": {
      "text/plain": [
       "(40, 5)"
      ]
     },
     "execution_count": 26,
     "metadata": {},
     "output_type": "execute_result"
    }
   ],
   "source": [
    "X_train.shape"
   ]
  },
  {
   "cell_type": "code",
   "execution_count": 27,
   "id": "75cba2b6",
   "metadata": {
    "execution": {
     "iopub.execute_input": "2022-05-09T16:23:25.147337Z",
     "iopub.status.busy": "2022-05-09T16:23:25.146800Z",
     "iopub.status.idle": "2022-05-09T16:23:25.152124Z",
     "shell.execute_reply": "2022-05-09T16:23:25.151521Z"
    },
    "papermill": {
     "duration": 0.062823,
     "end_time": "2022-05-09T16:23:25.153858",
     "exception": false,
     "start_time": "2022-05-09T16:23:25.091035",
     "status": "completed"
    },
    "tags": []
   },
   "outputs": [
    {
     "data": {
      "text/plain": [
       "(40,)"
      ]
     },
     "execution_count": 27,
     "metadata": {},
     "output_type": "execute_result"
    }
   ],
   "source": [
    "y_train.shape"
   ]
  },
  {
   "cell_type": "code",
   "execution_count": 28,
   "id": "ae706ce1",
   "metadata": {
    "execution": {
     "iopub.execute_input": "2022-05-09T16:23:25.266306Z",
     "iopub.status.busy": "2022-05-09T16:23:25.265772Z",
     "iopub.status.idle": "2022-05-09T16:23:25.271114Z",
     "shell.execute_reply": "2022-05-09T16:23:25.270495Z"
    },
    "papermill": {
     "duration": 0.064123,
     "end_time": "2022-05-09T16:23:25.272881",
     "exception": false,
     "start_time": "2022-05-09T16:23:25.208758",
     "status": "completed"
    },
    "tags": []
   },
   "outputs": [
    {
     "data": {
      "text/plain": [
       "(10, 5)"
      ]
     },
     "execution_count": 28,
     "metadata": {},
     "output_type": "execute_result"
    }
   ],
   "source": [
    "X_test.shape"
   ]
  },
  {
   "cell_type": "code",
   "execution_count": 29,
   "id": "08d575f6",
   "metadata": {
    "execution": {
     "iopub.execute_input": "2022-05-09T16:23:25.384769Z",
     "iopub.status.busy": "2022-05-09T16:23:25.384190Z",
     "iopub.status.idle": "2022-05-09T16:23:25.389533Z",
     "shell.execute_reply": "2022-05-09T16:23:25.388899Z"
    },
    "papermill": {
     "duration": 0.063258,
     "end_time": "2022-05-09T16:23:25.391244",
     "exception": false,
     "start_time": "2022-05-09T16:23:25.327986",
     "status": "completed"
    },
    "tags": []
   },
   "outputs": [
    {
     "data": {
      "text/plain": [
       "(10,)"
      ]
     },
     "execution_count": 29,
     "metadata": {},
     "output_type": "execute_result"
    }
   ],
   "source": [
    "y_test.shape"
   ]
  },
  {
   "cell_type": "markdown",
   "id": "ca8cafa4",
   "metadata": {
    "papermill": {
     "duration": 0.055342,
     "end_time": "2022-05-09T16:23:25.503502",
     "exception": false,
     "start_time": "2022-05-09T16:23:25.448160",
     "status": "completed"
    },
    "tags": []
   },
   "source": [
    "LinearRegression'u çekirdeğe dahil edip modeli inşa edelim."
   ]
  },
  {
   "cell_type": "code",
   "execution_count": 30,
   "id": "c96e1758",
   "metadata": {
    "execution": {
     "iopub.execute_input": "2022-05-09T16:23:25.618371Z",
     "iopub.status.busy": "2022-05-09T16:23:25.617814Z",
     "iopub.status.idle": "2022-05-09T16:23:25.699452Z",
     "shell.execute_reply": "2022-05-09T16:23:25.698553Z"
    },
    "papermill": {
     "duration": 0.142279,
     "end_time": "2022-05-09T16:23:25.702020",
     "exception": false,
     "start_time": "2022-05-09T16:23:25.559741",
     "status": "completed"
    },
    "tags": []
   },
   "outputs": [],
   "source": [
    "from sklearn.linear_model import LinearRegression\n",
    "model = LinearRegression()"
   ]
  },
  {
   "cell_type": "markdown",
   "id": "062960c6",
   "metadata": {
    "papermill": {
     "duration": 0.055356,
     "end_time": "2022-05-09T16:23:25.814002",
     "exception": false,
     "start_time": "2022-05-09T16:23:25.758646",
     "status": "completed"
    },
    "tags": []
   },
   "source": [
    "Modeli eğitmek için bağımlı bağımsız değişkenlerden oluşturulan eğitim verilerini verelim."
   ]
  },
  {
   "cell_type": "code",
   "execution_count": 31,
   "id": "2ee028cb",
   "metadata": {
    "execution": {
     "iopub.execute_input": "2022-05-09T16:23:25.929354Z",
     "iopub.status.busy": "2022-05-09T16:23:25.929049Z",
     "iopub.status.idle": "2022-05-09T16:23:25.957368Z",
     "shell.execute_reply": "2022-05-09T16:23:25.956415Z"
    },
    "papermill": {
     "duration": 0.089755,
     "end_time": "2022-05-09T16:23:25.960250",
     "exception": false,
     "start_time": "2022-05-09T16:23:25.870495",
     "status": "completed"
    },
    "tags": []
   },
   "outputs": [
    {
     "data": {
      "text/plain": [
       "LinearRegression()"
      ]
     },
     "execution_count": 31,
     "metadata": {},
     "output_type": "execute_result"
    }
   ],
   "source": [
    "model.fit(X_train, y_train)"
   ]
  },
  {
   "cell_type": "markdown",
   "id": "36c99f60",
   "metadata": {
    "papermill": {
     "duration": 0.057115,
     "end_time": "2022-05-09T16:23:26.077789",
     "exception": false,
     "start_time": "2022-05-09T16:23:26.020674",
     "status": "completed"
    },
    "tags": []
   },
   "source": [
    "Modele daha önce görmediği bağımlı test değişkenini tahmin ettirelim. Bu tahmin değerlerimizi y_pred değişkenine atayalım."
   ]
  },
  {
   "cell_type": "code",
   "execution_count": 32,
   "id": "aa8ea20f",
   "metadata": {
    "execution": {
     "iopub.execute_input": "2022-05-09T16:23:26.192249Z",
     "iopub.status.busy": "2022-05-09T16:23:26.191532Z",
     "iopub.status.idle": "2022-05-09T16:23:26.201192Z",
     "shell.execute_reply": "2022-05-09T16:23:26.200426Z"
    },
    "papermill": {
     "duration": 0.068327,
     "end_time": "2022-05-09T16:23:26.203021",
     "exception": false,
     "start_time": "2022-05-09T16:23:26.134694",
     "status": "completed"
    },
    "tags": []
   },
   "outputs": [
    {
     "data": {
      "text/plain": [
       "array([126362.87908255,  84608.45383634,  99677.49425147,  46357.46068582,\n",
       "       128750.48288504,  50912.4174188 , 109741.35032702, 100643.24281647,\n",
       "        97599.27574594, 113097.42524432])"
      ]
     },
     "execution_count": 32,
     "metadata": {},
     "output_type": "execute_result"
    }
   ],
   "source": [
    "y_pred = model.predict(X_test)\n",
    "y_pred"
   ]
  },
  {
   "cell_type": "markdown",
   "id": "2aae2d6a",
   "metadata": {
    "papermill": {
     "duration": 0.055406,
     "end_time": "2022-05-09T16:23:26.314552",
     "exception": false,
     "start_time": "2022-05-09T16:23:26.259146",
     "status": "completed"
    },
    "tags": []
   },
   "source": [
    "Tahminleri ve gerçek değerleri bir veri çerçevesinde toplayıp üzerinde göz gezdirelim."
   ]
  },
  {
   "cell_type": "code",
   "execution_count": 33,
   "id": "11d2e7bd",
   "metadata": {
    "execution": {
     "iopub.execute_input": "2022-05-09T16:23:26.428035Z",
     "iopub.status.busy": "2022-05-09T16:23:26.426994Z",
     "iopub.status.idle": "2022-05-09T16:23:26.437453Z",
     "shell.execute_reply": "2022-05-09T16:23:26.436893Z"
    },
    "papermill": {
     "duration": 0.068887,
     "end_time": "2022-05-09T16:23:26.439159",
     "exception": false,
     "start_time": "2022-05-09T16:23:26.370272",
     "status": "completed"
    },
    "tags": []
   },
   "outputs": [
    {
     "data": {
      "text/html": [
       "<div>\n",
       "<style scoped>\n",
       "    .dataframe tbody tr th:only-of-type {\n",
       "        vertical-align: middle;\n",
       "    }\n",
       "\n",
       "    .dataframe tbody tr th {\n",
       "        vertical-align: top;\n",
       "    }\n",
       "\n",
       "    .dataframe thead th {\n",
       "        text-align: right;\n",
       "    }\n",
       "</style>\n",
       "<table border=\"1\" class=\"dataframe\">\n",
       "  <thead>\n",
       "    <tr style=\"text-align: right;\">\n",
       "      <th></th>\n",
       "      <th>Gerçek Kar</th>\n",
       "      <th>Tahmin Edilen Kar</th>\n",
       "    </tr>\n",
       "  </thead>\n",
       "  <tbody>\n",
       "    <tr>\n",
       "      <th>13</th>\n",
       "      <td>134307.35</td>\n",
       "      <td>126362.879083</td>\n",
       "    </tr>\n",
       "    <tr>\n",
       "      <th>39</th>\n",
       "      <td>81005.76</td>\n",
       "      <td>84608.453836</td>\n",
       "    </tr>\n",
       "    <tr>\n",
       "      <th>30</th>\n",
       "      <td>99937.59</td>\n",
       "      <td>99677.494251</td>\n",
       "    </tr>\n",
       "    <tr>\n",
       "      <th>45</th>\n",
       "      <td>64926.08</td>\n",
       "      <td>46357.460686</td>\n",
       "    </tr>\n",
       "    <tr>\n",
       "      <th>17</th>\n",
       "      <td>125370.37</td>\n",
       "      <td>128750.482885</td>\n",
       "    </tr>\n",
       "    <tr>\n",
       "      <th>48</th>\n",
       "      <td>35673.41</td>\n",
       "      <td>50912.417419</td>\n",
       "    </tr>\n",
       "    <tr>\n",
       "      <th>26</th>\n",
       "      <td>105733.54</td>\n",
       "      <td>109741.350327</td>\n",
       "    </tr>\n",
       "    <tr>\n",
       "      <th>25</th>\n",
       "      <td>107404.34</td>\n",
       "      <td>100643.242816</td>\n",
       "    </tr>\n",
       "    <tr>\n",
       "      <th>32</th>\n",
       "      <td>97427.84</td>\n",
       "      <td>97599.275746</td>\n",
       "    </tr>\n",
       "    <tr>\n",
       "      <th>19</th>\n",
       "      <td>122776.86</td>\n",
       "      <td>113097.425244</td>\n",
       "    </tr>\n",
       "  </tbody>\n",
       "</table>\n",
       "</div>"
      ],
      "text/plain": [
       "    Gerçek Kar  Tahmin Edilen Kar\n",
       "13   134307.35      126362.879083\n",
       "39    81005.76       84608.453836\n",
       "30    99937.59       99677.494251\n",
       "45    64926.08       46357.460686\n",
       "17   125370.37      128750.482885\n",
       "48    35673.41       50912.417419\n",
       "26   105733.54      109741.350327\n",
       "25   107404.34      100643.242816\n",
       "32    97427.84       97599.275746\n",
       "19   122776.86      113097.425244"
      ]
     },
     "execution_count": 33,
     "metadata": {},
     "output_type": "execute_result"
    }
   ],
   "source": [
    "test_df = pd.DataFrame({'Gerçek Kar':y_test, 'Tahmin Edilen Kar':y_pred})\n",
    "test_df"
   ]
  },
  {
   "cell_type": "markdown",
   "id": "11bb50e7",
   "metadata": {
    "papermill": {
     "duration": 0.056447,
     "end_time": "2022-05-09T16:23:26.553368",
     "exception": false,
     "start_time": "2022-05-09T16:23:26.496921",
     "status": "completed"
    },
    "tags": []
   },
   "source": [
    "sklearn bünyesinde barınan metrics'i çekirdeğe dahil edelim ve MAE, MSE, RMSE değerlerini görüntüleyelim."
   ]
  },
  {
   "cell_type": "code",
   "execution_count": 34,
   "id": "41c178b4",
   "metadata": {
    "execution": {
     "iopub.execute_input": "2022-05-09T16:23:26.669529Z",
     "iopub.status.busy": "2022-05-09T16:23:26.668997Z",
     "iopub.status.idle": "2022-05-09T16:23:26.676140Z",
     "shell.execute_reply": "2022-05-09T16:23:26.675125Z"
    },
    "papermill": {
     "duration": 0.068368,
     "end_time": "2022-05-09T16:23:26.678012",
     "exception": false,
     "start_time": "2022-05-09T16:23:26.609644",
     "status": "completed"
    },
    "tags": []
   },
   "outputs": [
    {
     "name": "stdout",
     "output_type": "stream",
     "text": [
      "Mean Squared Error (MSE) :  82010363.04430099\n",
      "Root Mean Squared Error (RMSE) :  9055.957323458464\n",
      "Mean Absolute Error (MAE) :  6961.477813252376\n"
     ]
    }
   ],
   "source": [
    "from sklearn.metrics import mean_squared_error\n",
    "from sklearn.metrics import mean_absolute_error\n",
    "MAE = mean_absolute_error(y_test, y_pred)\n",
    "MSE = mean_squared_error(y_test, y_pred)\n",
    "RMSE = np.sqrt(MSE)\n",
    "print('Mean Squared Error (MSE) : ',MSE)\n",
    "print('Root Mean Squared Error (RMSE) : ',RMSE)\n",
    "print('Mean Absolute Error (MAE) : ',MAE)"
   ]
  },
  {
   "cell_type": "markdown",
   "id": "f79bd9f7",
   "metadata": {
    "papermill": {
     "duration": 0.056599,
     "end_time": "2022-05-09T16:23:26.791580",
     "exception": false,
     "start_time": "2022-05-09T16:23:26.734981",
     "status": "completed"
    },
    "tags": []
   },
   "source": [
    "![](data:image/png;base64,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)"
   ]
  },
  {
   "cell_type": "markdown",
   "id": "8d3f24c1",
   "metadata": {
    "papermill": {
     "duration": 0.056409,
     "end_time": "2022-05-09T16:23:26.906709",
     "exception": false,
     "start_time": "2022-05-09T16:23:26.850300",
     "status": "completed"
    },
    "tags": []
   },
   "source": [
    "![](https://programmerah.com/wp-content/uploads/2020/11/20190714113817886.png)"
   ]
  },
  {
   "cell_type": "markdown",
   "id": "59542193",
   "metadata": {
    "papermill": {
     "duration": 0.057965,
     "end_time": "2022-05-09T16:23:27.021918",
     "exception": false,
     "start_time": "2022-05-09T16:23:26.963953",
     "status": "completed"
    },
    "tags": []
   },
   "source": [
    "![](https://mlwsoyfgxvif.i.optimole.com/u8DypnU-kPkH3SU3/w:214/h:147/q:mauto/https://i0.wp.com/www.relataly.com/wp-content/uploads/2020/05/image-28.png?resize=214%2C147&ssl=1)"
   ]
  },
  {
   "cell_type": "markdown",
   "id": "d54a8f8c",
   "metadata": {
    "papermill": {
     "duration": 0.056526,
     "end_time": "2022-05-09T16:23:27.135639",
     "exception": false,
     "start_time": "2022-05-09T16:23:27.079113",
     "status": "completed"
    },
    "tags": []
   },
   "source": [
    "Modelin R Squared değerini eğitim verileri üzerinden yazdıralım."
   ]
  },
  {
   "cell_type": "code",
   "execution_count": 35,
   "id": "141a1f54",
   "metadata": {
    "execution": {
     "iopub.execute_input": "2022-05-09T16:23:27.251059Z",
     "iopub.status.busy": "2022-05-09T16:23:27.250500Z",
     "iopub.status.idle": "2022-05-09T16:23:27.258316Z",
     "shell.execute_reply": "2022-05-09T16:23:27.257329Z"
    },
    "papermill": {
     "duration": 0.068081,
     "end_time": "2022-05-09T16:23:27.260236",
     "exception": false,
     "start_time": "2022-05-09T16:23:27.192155",
     "status": "completed"
    },
    "tags": []
   },
   "outputs": [
    {
     "data": {
      "text/plain": [
       "0.9537019995248526"
      ]
     },
     "execution_count": 35,
     "metadata": {},
     "output_type": "execute_result"
    }
   ],
   "source": [
    "model.score(X_train, y_train)"
   ]
  },
  {
   "cell_type": "markdown",
   "id": "6e15b9de",
   "metadata": {
    "papermill": {
     "duration": 0.058469,
     "end_time": "2022-05-09T16:23:27.380870",
     "exception": false,
     "start_time": "2022-05-09T16:23:27.322401",
     "status": "completed"
    },
    "tags": []
   },
   "source": [
    "Dileyenler statsmodel kullanarak hangi özniteliklerin model için %95 güvenilirlikle ne kadar anlamlı olup olmadığına da bakabilir. Modelde bazı feature selection işlemleri yaparak tekrardan eğitip yeni sonuçlar mukayese edilebilir.\n"
   ]
  },
  {
   "cell_type": "code",
   "execution_count": 36,
   "id": "3bd40343",
   "metadata": {
    "execution": {
     "iopub.execute_input": "2022-05-09T16:23:27.496856Z",
     "iopub.status.busy": "2022-05-09T16:23:27.496303Z",
     "iopub.status.idle": "2022-05-09T16:23:28.261122Z",
     "shell.execute_reply": "2022-05-09T16:23:28.260532Z"
    },
    "papermill": {
     "duration": 0.824878,
     "end_time": "2022-05-09T16:23:28.262967",
     "exception": false,
     "start_time": "2022-05-09T16:23:27.438089",
     "status": "completed"
    },
    "tags": []
   },
   "outputs": [
    {
     "data": {
      "text/html": [
       "<table class=\"simpletable\">\n",
       "<caption>OLS Regression Results</caption>\n",
       "<tr>\n",
       "  <th>Dep. Variable:</th>         <td>Profit</td>      <th>  R-squared (uncentered):</th>      <td>   0.988</td>\n",
       "</tr>\n",
       "<tr>\n",
       "  <th>Model:</th>                   <td>OLS</td>       <th>  Adj. R-squared (uncentered):</th> <td>   0.986</td>\n",
       "</tr>\n",
       "<tr>\n",
       "  <th>Method:</th>             <td>Least Squares</td>  <th>  F-statistic:       </th>          <td>   727.1</td>\n",
       "</tr>\n",
       "<tr>\n",
       "  <th>Date:</th>             <td>Mon, 09 May 2022</td> <th>  Prob (F-statistic):</th>          <td>7.87e-42</td>\n",
       "</tr>\n",
       "<tr>\n",
       "  <th>Time:</th>                 <td>16:23:28</td>     <th>  Log-Likelihood:    </th>          <td> -545.15</td>\n",
       "</tr>\n",
       "<tr>\n",
       "  <th>No. Observations:</th>      <td>    50</td>      <th>  AIC:               </th>          <td>   1100.</td>\n",
       "</tr>\n",
       "<tr>\n",
       "  <th>Df Residuals:</th>          <td>    45</td>      <th>  BIC:               </th>          <td>   1110.</td>\n",
       "</tr>\n",
       "<tr>\n",
       "  <th>Df Model:</th>              <td>     5</td>      <th>                     </th>              <td> </td>   \n",
       "</tr>\n",
       "<tr>\n",
       "  <th>Covariance Type:</th>      <td>nonrobust</td>    <th>                     </th>              <td> </td>   \n",
       "</tr>\n",
       "</table>\n",
       "<table class=\"simpletable\">\n",
       "<tr>\n",
       "         <td></td>            <th>coef</th>     <th>std err</th>      <th>t</th>      <th>P>|t|</th>  <th>[0.025</th>    <th>0.975]</th>  \n",
       "</tr>\n",
       "<tr>\n",
       "  <th>R&D Spend</th>       <td>    0.7182</td> <td>    0.066</td> <td>   10.916</td> <td> 0.000</td> <td>    0.586</td> <td>    0.851</td>\n",
       "</tr>\n",
       "<tr>\n",
       "  <th>Administration</th>  <td>    0.3113</td> <td>    0.035</td> <td>    8.885</td> <td> 0.000</td> <td>    0.241</td> <td>    0.382</td>\n",
       "</tr>\n",
       "<tr>\n",
       "  <th>Marketing Spend</th> <td>    0.0786</td> <td>    0.023</td> <td>    3.429</td> <td> 0.001</td> <td>    0.032</td> <td>    0.125</td>\n",
       "</tr>\n",
       "<tr>\n",
       "  <th>State_Florida</th>   <td> 3464.4536</td> <td> 4905.406</td> <td>    0.706</td> <td> 0.484</td> <td>-6415.541</td> <td> 1.33e+04</td>\n",
       "</tr>\n",
       "<tr>\n",
       "  <th>State_New York</th>  <td> 5067.8937</td> <td> 4668.238</td> <td>    1.086</td> <td> 0.283</td> <td>-4334.419</td> <td> 1.45e+04</td>\n",
       "</tr>\n",
       "</table>\n",
       "<table class=\"simpletable\">\n",
       "<tr>\n",
       "  <th>Omnibus:</th>       <td> 1.355</td> <th>  Durbin-Watson:     </th> <td>   1.288</td>\n",
       "</tr>\n",
       "<tr>\n",
       "  <th>Prob(Omnibus):</th> <td> 0.508</td> <th>  Jarque-Bera (JB):  </th> <td>   1.241</td>\n",
       "</tr>\n",
       "<tr>\n",
       "  <th>Skew:</th>          <td>-0.237</td> <th>  Prob(JB):          </th> <td>   0.538</td>\n",
       "</tr>\n",
       "<tr>\n",
       "  <th>Kurtosis:</th>      <td> 2.391</td> <th>  Cond. No.          </th> <td>8.28e+05</td>\n",
       "</tr>\n",
       "</table><br/><br/>Notes:<br/>[1] R² is computed without centering (uncentered) since the model does not contain a constant.<br/>[2] Standard Errors assume that the covariance matrix of the errors is correctly specified.<br/>[3] The condition number is large, 8.28e+05. This might indicate that there are<br/>strong multicollinearity or other numerical problems."
      ],
      "text/plain": [
       "<class 'statsmodels.iolib.summary.Summary'>\n",
       "\"\"\"\n",
       "                                 OLS Regression Results                                \n",
       "=======================================================================================\n",
       "Dep. Variable:                 Profit   R-squared (uncentered):                   0.988\n",
       "Model:                            OLS   Adj. R-squared (uncentered):              0.986\n",
       "Method:                 Least Squares   F-statistic:                              727.1\n",
       "Date:                Mon, 09 May 2022   Prob (F-statistic):                    7.87e-42\n",
       "Time:                        16:23:28   Log-Likelihood:                         -545.15\n",
       "No. Observations:                  50   AIC:                                      1100.\n",
       "Df Residuals:                      45   BIC:                                      1110.\n",
       "Df Model:                           5                                                  \n",
       "Covariance Type:            nonrobust                                                  \n",
       "===================================================================================\n",
       "                      coef    std err          t      P>|t|      [0.025      0.975]\n",
       "-----------------------------------------------------------------------------------\n",
       "R&D Spend           0.7182      0.066     10.916      0.000       0.586       0.851\n",
       "Administration      0.3113      0.035      8.885      0.000       0.241       0.382\n",
       "Marketing Spend     0.0786      0.023      3.429      0.001       0.032       0.125\n",
       "State_Florida    3464.4536   4905.406      0.706      0.484   -6415.541    1.33e+04\n",
       "State_New York   5067.8937   4668.238      1.086      0.283   -4334.419    1.45e+04\n",
       "==============================================================================\n",
       "Omnibus:                        1.355   Durbin-Watson:                   1.288\n",
       "Prob(Omnibus):                  0.508   Jarque-Bera (JB):                1.241\n",
       "Skew:                          -0.237   Prob(JB):                        0.538\n",
       "Kurtosis:                       2.391   Cond. No.                     8.28e+05\n",
       "==============================================================================\n",
       "\n",
       "Notes:\n",
       "[1] R² is computed without centering (uncentered) since the model does not contain a constant.\n",
       "[2] Standard Errors assume that the covariance matrix of the errors is correctly specified.\n",
       "[3] The condition number is large, 8.28e+05. This might indicate that there are\n",
       "strong multicollinearity or other numerical problems.\n",
       "\"\"\""
      ]
     },
     "execution_count": 36,
     "metadata": {},
     "output_type": "execute_result"
    }
   ],
   "source": [
    "import statsmodels.api as sm\n",
    "stmodel = sm.OLS(y, X).fit()\n",
    "stmodel.summary()"
   ]
  },
  {
   "cell_type": "markdown",
   "id": "9d13978d",
   "metadata": {
    "papermill": {
     "duration": 0.057185,
     "end_time": "2022-05-09T16:23:28.377858",
     "exception": false,
     "start_time": "2022-05-09T16:23:28.320673",
     "status": "completed"
    },
    "tags": []
   },
   "source": [
    "> R-squared -> verilerin regresyon çizgisine ne kadar yakın olduğunun istatiksel ölçüsüdür.1'e yakın olduğunda iyi sonuç\n",
    "\n",
    "> F-Statistic : Modelin anlamliligini test etmek icin kullanilan istatistik degeridir.\n",
    "\n",
    "> Prob (F-statistic): Modelin anlamli olup olmadiginin bilgisini vermekte ve bu deger 0.05 den kucuk oldugundan dolayi  bizim modelimiz anlamlidir"
   ]
  },
  {
   "cell_type": "markdown",
   "id": "e11ea76a",
   "metadata": {
    "papermill": {
     "duration": 0.056909,
     "end_time": "2022-05-09T16:23:28.492107",
     "exception": false,
     "start_time": "2022-05-09T16:23:28.435198",
     "status": "completed"
    },
    "tags": []
   },
   "source": [
    ">  OLS (Ordinary Least Squared): Sıradan en küçük kareler yöntemidir. Doğrusal regresyon modeli kurulurken verilerin ortasından geçen eğime (çizgiye) en az kare farkı ile yaklaşmaya çalışan bir yöntemdir.\n",
    ">   > Adjusted (Düzenlenmiş) R-Squared: Bu değer genellikle çoklu regresyon analizinde kullanılır. Modele değişken eklendikçe R2 değeri değişkeni etkili varsayıp varyansını açıkladığını sanabilir. Ancak düzenlenmiş R2 mantığında her bir değişkenin bağımlı değişken üzerindeki etkisi ölçülerek daha optimum sonuçlar vermektedir. Anlamak için şöyle bir örnek verilebilir. Örneğin bir evin hem brüt hem de net metrekaresi bulunur. Brüt metrekare her şeyi içine dahil ederken net ise sadece yaşam alanına odaklanır. Dolayısı ile ev bakarken bu ikisi arasındaki farkı bilmek önemlidir. Model sonucunu incelerken de bu alana bakılması önemlidir.\n"
   ]
  },
  {
   "cell_type": "markdown",
   "id": "4d350f42",
   "metadata": {
    "papermill": {
     "duration": 0.056813,
     "end_time": "2022-05-09T16:23:28.606464",
     "exception": false,
     "start_time": "2022-05-09T16:23:28.549651",
     "status": "completed"
    },
    "tags": []
   },
   "source": [
    "Sınıflandırma problemlerinde öncelikle veri setimizi train ve test setleri olarak ayırır daha sonra train veri seti üzerinden model oluşturur ve test veri seti üzerinde yapılan tahminleri test ederiz. Ancak train/test ayrımında bazı problemler bulunabilir . Veri seti ayrımını rastgele yapamamış olabiliriz . Sadece belirli bir yaşta , belirli bir bölgeden , sadece kadın ya da erkekleri seçip onlar üzerinden model kurmuş olabiliriz. Bu da overfitting problemine sebep olacaktır. Bu problemi Cross Validation ile çözebiliriz."
   ]
  },
  {
   "cell_type": "markdown",
   "id": "986ea1fd",
   "metadata": {
    "papermill": {
     "duration": 0.057008,
     "end_time": "2022-05-09T16:23:28.721888",
     "exception": false,
     "start_time": "2022-05-09T16:23:28.664880",
     "status": "completed"
    },
    "tags": []
   },
   "source": [
    "![](https://i0.wp.com/dataaspirant.com/wp-content/uploads/2020/12/4-Cross-Validation-Procedure.png?resize=768%2C252&ssl=1)"
   ]
  },
  {
   "cell_type": "code",
   "execution_count": 37,
   "id": "ce36937b",
   "metadata": {
    "execution": {
     "iopub.execute_input": "2022-05-09T16:23:28.838589Z",
     "iopub.status.busy": "2022-05-09T16:23:28.838063Z",
     "iopub.status.idle": "2022-05-09T16:23:28.841429Z",
     "shell.execute_reply": "2022-05-09T16:23:28.840818Z"
    },
    "papermill": {
     "duration": 0.06402,
     "end_time": "2022-05-09T16:23:28.843186",
     "exception": false,
     "start_time": "2022-05-09T16:23:28.779166",
     "status": "completed"
    },
    "tags": []
   },
   "outputs": [],
   "source": [
    "from sklearn import model_selection\n",
    "from sklearn.model_selection import cross_val_score"
   ]
  },
  {
   "cell_type": "code",
   "execution_count": 38,
   "id": "bc341361",
   "metadata": {
    "execution": {
     "iopub.execute_input": "2022-05-09T16:23:28.964716Z",
     "iopub.status.busy": "2022-05-09T16:23:28.964054Z",
     "iopub.status.idle": "2022-05-09T16:23:29.012315Z",
     "shell.execute_reply": "2022-05-09T16:23:29.011228Z"
    },
    "papermill": {
     "duration": 0.114727,
     "end_time": "2022-05-09T16:23:29.015477",
     "exception": false,
     "start_time": "2022-05-09T16:23:28.900750",
     "status": "completed"
    },
    "tags": []
   },
   "outputs": [
    {
     "data": {
      "text/plain": [
       "array([0.92694132, 0.95140688, 0.96307748, 0.94425295, 0.96567718,\n",
       "       0.84861066, 0.82744573])"
      ]
     },
     "execution_count": 38,
     "metadata": {},
     "output_type": "execute_result"
    }
   ],
   "source": [
    "cross_val_score(model, X_train, y_train, cv = 7, scoring = \"r2\")"
   ]
  },
  {
   "cell_type": "code",
   "execution_count": 39,
   "id": "5e1077b2",
   "metadata": {
    "execution": {
     "iopub.execute_input": "2022-05-09T16:23:29.146081Z",
     "iopub.status.busy": "2022-05-09T16:23:29.145647Z",
     "iopub.status.idle": "2022-05-09T16:23:29.179742Z",
     "shell.execute_reply": "2022-05-09T16:23:29.179099Z"
    },
    "papermill": {
     "duration": 0.096822,
     "end_time": "2022-05-09T16:23:29.181709",
     "exception": false,
     "start_time": "2022-05-09T16:23:29.084887",
     "status": "completed"
    },
    "tags": []
   },
   "outputs": [
    {
     "data": {
      "text/plain": [
       "0.9182017422748938"
      ]
     },
     "execution_count": 39,
     "metadata": {},
     "output_type": "execute_result"
    }
   ],
   "source": [
    "cross_val_score(model, X_train, y_train, cv = 7, scoring = \"r2\").mean()"
   ]
  },
  {
   "cell_type": "code",
   "execution_count": 40,
   "id": "f7a83f63",
   "metadata": {
    "execution": {
     "iopub.execute_input": "2022-05-09T16:23:29.301284Z",
     "iopub.status.busy": "2022-05-09T16:23:29.300856Z",
     "iopub.status.idle": "2022-05-09T16:23:29.304088Z",
     "shell.execute_reply": "2022-05-09T16:23:29.303382Z"
    },
    "papermill": {
     "duration": 0.064762,
     "end_time": "2022-05-09T16:23:29.306003",
     "exception": false,
     "start_time": "2022-05-09T16:23:29.241241",
     "status": "completed"
    },
    "tags": []
   },
   "outputs": [],
   "source": [
    "#7 farklı parça üzerinde aynı işlemi yaptığımızda ise ortalama 91'ye düştü."
   ]
  },
  {
   "cell_type": "code",
   "execution_count": null,
   "id": "bcbd134f",
   "metadata": {
    "papermill": {
     "duration": 0.058368,
     "end_time": "2022-05-09T16:23:29.423556",
     "exception": false,
     "start_time": "2022-05-09T16:23:29.365188",
     "status": "completed"
    },
    "tags": []
   },
   "outputs": [],
   "source": []
  }
 ],
 "metadata": {
  "kernelspec": {
   "display_name": "Python 3",
   "language": "python",
   "name": "python3"
  },
  "language_info": {
   "codemirror_mode": {
    "name": "ipython",
    "version": 3
   },
   "file_extension": ".py",
   "mimetype": "text/x-python",
   "name": "python",
   "nbconvert_exporter": "python",
   "pygments_lexer": "ipython3",
   "version": "3.7.12"
  },
  "papermill": {
   "default_parameters": {},
   "duration": 22.220741,
   "end_time": "2022-05-09T16:23:30.201569",
   "environment_variables": {},
   "exception": null,
   "input_path": "__notebook__.ipynb",
   "output_path": "__notebook__.ipynb",
   "parameters": {},
   "start_time": "2022-05-09T16:23:07.980828",
   "version": "2.3.4"
  }
 },
 "nbformat": 4,
 "nbformat_minor": 5
}
